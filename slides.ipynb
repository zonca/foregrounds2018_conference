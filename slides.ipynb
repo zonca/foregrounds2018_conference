{
 "cells": [
  {
   "cell_type": "markdown",
   "metadata": {
    "slideshow": {
     "slide_type": "slide"
    }
   },
   "source": [
    "# On-the-fly high-resolution foregrounds simulations at scale with TOAST and PySM\n",
    "\n",
    "* **Andrea Zonca** - San Diego Supercomputer Center\n",
    "* Ted Kisner, Reijo Keskitalo, Julian Borrill - Lawrence Berkeley Labs"
   ]
  },
  {
   "cell_type": "code",
   "execution_count": 19,
   "metadata": {
    "slideshow": {
     "slide_type": "skip"
    }
   },
   "outputs": [],
   "source": [
    "import numpy as np\n",
    "import matplotlib.pyplot as plt\n",
    "import pickle\n",
    "import pandas as pd\n",
    "%matplotlib inline"
   ]
  },
  {
   "cell_type": "code",
   "execution_count": 1,
   "metadata": {
    "slideshow": {
     "slide_type": "slide"
    }
   },
   "outputs": [
    {
     "name": "stdout",
     "output_type": "stream",
     "text": [
      "#!/bin/bash\n",
      "\n",
      "#SBATCH --partition=debug\n",
      "\n",
      "#SBATCH --account=mp107\n",
      "#SBATCH --nodes=1\n",
      "#SBATCH --constraint=knl,quad,cache\n",
      "#SBATCH --time=00:10:00\n",
      "#SBATCH --job-name=pico-focalplane\n",
      "#SBATCH --output=pico-focalplane-%j.log\n",
      "\n",
      "set -o errexit\n",
      "set -v\n",
      "\n",
      "srun -n 1 -N 1 toast_fake_focalplane.py --minpix 50 --out fpfg2018 \\\n",
      "    --fwhm 9.5 --fwhm_sigma 0.03 \\\n",
      "    --fov 12.15 \\\n",
      "    --psd_fknee 0.010 --psd_NET 33.8e-6 --psd_fmin 1.0e-5 \\\n",
      "    --bandcenter_ghz 89.6 --bandcenter_sigma 0.01 \\\n",
      "    --bandwidth_ghz 22.4 --bandwidth_sigma 0.02 \\\n",
      "    --random_seed 11111\n"
     ]
    }
   ],
   "source": [
    "!cat create_focalplane.slurm"
   ]
  },
  {
   "cell_type": "code",
   "execution_count": 20,
   "metadata": {
    "slideshow": {
     "slide_type": "slide"
    }
   },
   "outputs": [],
   "source": [
    "fp = pickle.load(open(\"fpfg2018_61.pkl\", \"rb\"))"
   ]
  },
  {
   "cell_type": "code",
   "execution_count": 21,
   "metadata": {},
   "outputs": [
    {
     "data": {
      "text/plain": [
       "{'NET': 0.0,\n",
       " 'alpha': 1.0,\n",
       " 'bandcenter_ghz': 90.71265546906,\n",
       " 'bandwidth_ghz': 21.63712115890996,\n",
       " 'fknee': 0.0,\n",
       " 'fmin': 1e-05,\n",
       " 'fwhm': 9.5,\n",
       " 'fwhm_deg': 0.15796663017698565,\n",
       " 'index': 0,\n",
       " 'quat': array([0., 0., 0., 1.])}"
      ]
     },
     "execution_count": 21,
     "metadata": {},
     "output_type": "execute_result"
    }
   ],
   "source": [
    "fp['fake_00A']"
   ]
  },
  {
   "cell_type": "code",
   "execution_count": 22,
   "metadata": {
    "slideshow": {
     "slide_type": "skip"
    }
   },
   "outputs": [],
   "source": [
    "p = [\"fwhm_deg\", \"bandcenter_ghz\", \"bandwidth_ghz\"]\n",
    "a = pd.DataFrame({k : np.array([each[k] for each in fp.values()]) for k in p})"
   ]
  },
  {
   "cell_type": "code",
   "execution_count": 23,
   "metadata": {},
   "outputs": [],
   "source": [
    "a[\"fwhm_arcmin\"] = a[\"fwhm_deg\"] * 60"
   ]
  },
  {
   "cell_type": "code",
   "execution_count": 25,
   "metadata": {},
   "outputs": [],
   "source": [
    "a = a.reset_index()"
   ]
  },
  {
   "cell_type": "code",
   "execution_count": 26,
   "metadata": {},
   "outputs": [
    {
     "data": {
      "text/html": [
       "<div>\n",
       "<style scoped>\n",
       "    .dataframe tbody tr th:only-of-type {\n",
       "        vertical-align: middle;\n",
       "    }\n",
       "\n",
       "    .dataframe tbody tr th {\n",
       "        vertical-align: top;\n",
       "    }\n",
       "\n",
       "    .dataframe thead th {\n",
       "        text-align: right;\n",
       "    }\n",
       "</style>\n",
       "<table border=\"1\" class=\"dataframe\">\n",
       "  <thead>\n",
       "    <tr style=\"text-align: right;\">\n",
       "      <th></th>\n",
       "      <th>index</th>\n",
       "      <th>bandcenter_ghz</th>\n",
       "      <th>bandwidth_ghz</th>\n",
       "      <th>fwhm_deg</th>\n",
       "      <th>fwhm_arcmin</th>\n",
       "    </tr>\n",
       "  </thead>\n",
       "  <tbody>\n",
       "    <tr>\n",
       "      <th>0</th>\n",
       "      <td>0</td>\n",
       "      <td>90.712655</td>\n",
       "      <td>21.637121</td>\n",
       "      <td>0.157967</td>\n",
       "      <td>9.477998</td>\n",
       "    </tr>\n",
       "    <tr>\n",
       "      <th>1</th>\n",
       "      <td>1</td>\n",
       "      <td>89.167995</td>\n",
       "      <td>21.828558</td>\n",
       "      <td>0.158181</td>\n",
       "      <td>9.490877</td>\n",
       "    </tr>\n",
       "    <tr>\n",
       "      <th>2</th>\n",
       "      <td>2</td>\n",
       "      <td>88.534447</td>\n",
       "      <td>22.968047</td>\n",
       "      <td>0.164654</td>\n",
       "      <td>9.879223</td>\n",
       "    </tr>\n",
       "    <tr>\n",
       "      <th>3</th>\n",
       "      <td>3</td>\n",
       "      <td>90.575148</td>\n",
       "      <td>22.402305</td>\n",
       "      <td>0.155915</td>\n",
       "      <td>9.354927</td>\n",
       "    </tr>\n",
       "    <tr>\n",
       "      <th>4</th>\n",
       "      <td>4</td>\n",
       "      <td>89.265496</td>\n",
       "      <td>22.976564</td>\n",
       "      <td>0.161122</td>\n",
       "      <td>9.667323</td>\n",
       "    </tr>\n",
       "  </tbody>\n",
       "</table>\n",
       "</div>"
      ],
      "text/plain": [
       "   index  bandcenter_ghz  bandwidth_ghz  fwhm_deg  fwhm_arcmin\n",
       "0      0       90.712655      21.637121  0.157967     9.477998\n",
       "1      1       89.167995      21.828558  0.158181     9.490877\n",
       "2      2       88.534447      22.968047  0.164654     9.879223\n",
       "3      3       90.575148      22.402305  0.155915     9.354927\n",
       "4      4       89.265496      22.976564  0.161122     9.667323"
      ]
     },
     "execution_count": 26,
     "metadata": {},
     "output_type": "execute_result"
    }
   ],
   "source": [
    "a.head()"
   ]
  },
  {
   "cell_type": "code",
   "execution_count": 27,
   "metadata": {
    "slideshow": {
     "slide_type": "slide"
    }
   },
   "outputs": [
    {
     "data": {
      "application/vnd.vegalite.v2+json": {
       "$schema": "https://vega.github.io/schema/vega-lite/v2.6.0.json",
       "config": {
        "view": {
         "height": 300,
         "width": 400
        }
       },
       "data": {
        "name": "data-4fc8b6ad00ead143f7f729ffa85837da"
       },
       "datasets": {
        "data-4fc8b6ad00ead143f7f729ffa85837da": [
         {
          "bandcenter_ghz": 90.71265546906,
          "bandwidth_ghz": 21.63712115890996,
          "fwhm_arcmin": 9.477997810619138,
          "fwhm_deg": 0.15796663017698565,
          "index": 0
         },
         {
          "bandcenter_ghz": 89.16799522717268,
          "bandwidth_ghz": 21.828557599749395,
          "fwhm_arcmin": 9.490876966863858,
          "fwhm_deg": 0.1581812827810643,
          "index": 1
         },
         {
          "bandcenter_ghz": 88.53444689287453,
          "bandwidth_ghz": 22.968046879652974,
          "fwhm_arcmin": 9.879223139860203,
          "fwhm_deg": 0.16465371899767006,
          "index": 2
         },
         {
          "bandcenter_ghz": 90.57514846782985,
          "bandwidth_ghz": 22.402304846955488,
          "fwhm_arcmin": 9.35492728765808,
          "fwhm_deg": 0.15591545479430133,
          "index": 3
         },
         {
          "bandcenter_ghz": 89.26549564144638,
          "bandwidth_ghz": 22.97656426039775,
          "fwhm_arcmin": 9.667323289081594,
          "fwhm_deg": 0.16112205481802658,
          "index": 4
         },
         {
          "bandcenter_ghz": 87.84123055619483,
          "bandwidth_ghz": 22.175213454769214,
          "fwhm_arcmin": 9.615043012231544,
          "fwhm_deg": 0.16025071687052572,
          "index": 5
         },
         {
          "bandcenter_ghz": 92.06338354618808,
          "bandwidth_ghz": 21.893691103724194,
          "fwhm_arcmin": 9.229110345641514,
          "fwhm_deg": 0.1538185057606919,
          "index": 6
         },
         {
          "bandcenter_ghz": 88.73764286905859,
          "bandwidth_ghz": 22.165078566053474,
          "fwhm_arcmin": 9.607397990016972,
          "fwhm_deg": 0.1601232998336162,
          "index": 7
         },
         {
          "bandcenter_ghz": 90.23451324378051,
          "bandwidth_ghz": 22.630186814660348,
          "fwhm_arcmin": 9.993341583424291,
          "fwhm_deg": 0.16655569305707152,
          "index": 8
         },
         {
          "bandcenter_ghz": 88.92828491978065,
          "bandwidth_ghz": 21.455877009546153,
          "fwhm_arcmin": 9.924941539372853,
          "fwhm_deg": 0.16541569232288086,
          "index": 9
         },
         {
          "bandcenter_ghz": 89.2799282731399,
          "bandwidth_ghz": 22.695121720898683,
          "fwhm_arcmin": 9.733626939632718,
          "fwhm_deg": 0.1622271156605453,
          "index": 10
         },
         {
          "bandcenter_ghz": 88.55480889367674,
          "bandwidth_ghz": 22.686829328900163,
          "fwhm_arcmin": 9.842585904164018,
          "fwhm_deg": 0.16404309840273362,
          "index": 11
         },
         {
          "bandcenter_ghz": 89.4631030294094,
          "bandwidth_ghz": 23.030721707047885,
          "fwhm_arcmin": 9.858229811927245,
          "fwhm_deg": 0.16430383019878742,
          "index": 12
         },
         {
          "bandcenter_ghz": 90.16258108209293,
          "bandwidth_ghz": 23.124108807590595,
          "fwhm_arcmin": 9.306505958504653,
          "fwhm_deg": 0.1551084326417442,
          "index": 13
         },
         {
          "bandcenter_ghz": 90.24540970007276,
          "bandwidth_ghz": 22.123789485518397,
          "fwhm_arcmin": 9.761259043437116,
          "fwhm_deg": 0.16268765072395194,
          "index": 14
         },
         {
          "bandcenter_ghz": 88.84146475862475,
          "bandwidth_ghz": 21.701578496583483,
          "fwhm_arcmin": 9.266898634298464,
          "fwhm_deg": 0.15444831057164107,
          "index": 15
         },
         {
          "bandcenter_ghz": 88.88464911039364,
          "bandwidth_ghz": 22.389085982358896,
          "fwhm_arcmin": 9.407387764670766,
          "fwhm_deg": 0.1567897960778461,
          "index": 16
         },
         {
          "bandcenter_ghz": 89.78677104992158,
          "bandwidth_ghz": 22.664199315006616,
          "fwhm_arcmin": 9.381743348783976,
          "fwhm_deg": 0.1563623891463996,
          "index": 17
         },
         {
          "bandcenter_ghz": 91.1791264279274,
          "bandwidth_ghz": 22.172275123491247,
          "fwhm_arcmin": 9.097411357942745,
          "fwhm_deg": 0.15162352263237908,
          "index": 18
         },
         {
          "bandcenter_ghz": 90.13395122403718,
          "bandwidth_ghz": 23.20221473235367,
          "fwhm_arcmin": 9.81688997894032,
          "fwhm_deg": 0.16361483298233867,
          "index": 19
         },
         {
          "bandcenter_ghz": 89.04211570663045,
          "bandwidth_ghz": 22.252389939709953,
          "fwhm_arcmin": 9.367392753206056,
          "fwhm_deg": 0.15612321255343428,
          "index": 20
         },
         {
          "bandcenter_ghz": 89.3041135808461,
          "bandwidth_ghz": 22.448538693498737,
          "fwhm_arcmin": 9.873972973851297,
          "fwhm_deg": 0.16456621623085493,
          "index": 21
         },
         {
          "bandcenter_ghz": 90.04819062891413,
          "bandwidth_ghz": 22.244705828461218,
          "fwhm_arcmin": 9.210193192480261,
          "fwhm_deg": 0.15350321987467103,
          "index": 22
         },
         {
          "bandcenter_ghz": 90.32874173501968,
          "bandwidth_ghz": 22.391945887201626,
          "fwhm_arcmin": 9.294246842622323,
          "fwhm_deg": 0.15490411404370538,
          "index": 23
         },
         {
          "bandcenter_ghz": 90.65881504449608,
          "bandwidth_ghz": 22.34146235426067,
          "fwhm_arcmin": 9.447267547633068,
          "fwhm_deg": 0.1574544591272178,
          "index": 24
         },
         {
          "bandcenter_ghz": 89.9775946702926,
          "bandwidth_ghz": 21.704466948876377,
          "fwhm_arcmin": 8.593534614067313,
          "fwhm_deg": 0.14322557690112186,
          "index": 25
         },
         {
          "bandcenter_ghz": 91.36021727869114,
          "bandwidth_ghz": 22.159873885914635,
          "fwhm_arcmin": 9.698322965167472,
          "fwhm_deg": 0.16163871608612454,
          "index": 26
         },
         {
          "bandcenter_ghz": 87.8098466016035,
          "bandwidth_ghz": 22.594413170450505,
          "fwhm_arcmin": 9.304302820361546,
          "fwhm_deg": 0.15507171367269243,
          "index": 27
         },
         {
          "bandcenter_ghz": 89.10066193839452,
          "bandwidth_ghz": 23.109289591326323,
          "fwhm_arcmin": 9.634240723971779,
          "fwhm_deg": 0.160570678732863,
          "index": 28
         },
         {
          "bandcenter_ghz": 91.3859024395774,
          "bandwidth_ghz": 22.149520431076002,
          "fwhm_arcmin": 9.287468967737745,
          "fwhm_deg": 0.15479114946229575,
          "index": 29
         },
         {
          "bandcenter_ghz": 88.03677999820746,
          "bandwidth_ghz": 22.470691351248416,
          "fwhm_arcmin": 9.817278085025197,
          "fwhm_deg": 0.16362130141708664,
          "index": 30
         },
         {
          "bandcenter_ghz": 90.156782542871,
          "bandwidth_ghz": 22.519555510375977,
          "fwhm_arcmin": 9.60463022273763,
          "fwhm_deg": 0.1600771703789605,
          "index": 31
         },
         {
          "bandcenter_ghz": 89.44169821247381,
          "bandwidth_ghz": 22.152569952542606,
          "fwhm_arcmin": 10.01049874240258,
          "fwhm_deg": 0.16684164570670967,
          "index": 32
         },
         {
          "bandcenter_ghz": 87.6043686035357,
          "bandwidth_ghz": 22.711902702353434,
          "fwhm_arcmin": 9.498585855840165,
          "fwhm_deg": 0.15830976426400276,
          "index": 33
         },
         {
          "bandcenter_ghz": 89.19695866667156,
          "bandwidth_ghz": 22.813006721112053,
          "fwhm_arcmin": 9.263455866800392,
          "fwhm_deg": 0.15439093111333987,
          "index": 34
         },
         {
          "bandcenter_ghz": 89.96033415865439,
          "bandwidth_ghz": 22.64856082361576,
          "fwhm_arcmin": 9.396715174098937,
          "fwhm_deg": 0.1566119195683156,
          "index": 35
         },
         {
          "bandcenter_ghz": 88.26598978515665,
          "bandwidth_ghz": 22.106066366155396,
          "fwhm_arcmin": 9.749397788721707,
          "fwhm_deg": 0.16248996314536177,
          "index": 36
         },
         {
          "bandcenter_ghz": 88.30295988280523,
          "bandwidth_ghz": 22.43418140859185,
          "fwhm_arcmin": 9.387466797645667,
          "fwhm_deg": 0.1564577799607611,
          "index": 37
         },
         {
          "bandcenter_ghz": 88.69332302611475,
          "bandwidth_ghz": 22.48090403511241,
          "fwhm_arcmin": 9.970690963228295,
          "fwhm_deg": 0.16617818272047158,
          "index": 38
         },
         {
          "bandcenter_ghz": 89.49412299717793,
          "bandwidth_ghz": 22.617651003296444,
          "fwhm_arcmin": 9.584488979653328,
          "fwhm_deg": 0.15974148299422214,
          "index": 39
         },
         {
          "bandcenter_ghz": 88.23628231784666,
          "bandwidth_ghz": 22.825816654080114,
          "fwhm_arcmin": 9.293293028065161,
          "fwhm_deg": 0.15488821713441936,
          "index": 40
         },
         {
          "bandcenter_ghz": 89.83651640593256,
          "bandwidth_ghz": 22.65270633988077,
          "fwhm_arcmin": 9.55944938419674,
          "fwhm_deg": 0.159324156403279,
          "index": 41
         },
         {
          "bandcenter_ghz": 89.82593234107227,
          "bandwidth_ghz": 23.34225627843627,
          "fwhm_arcmin": 9.249875328354818,
          "fwhm_deg": 0.15416458880591363,
          "index": 42
         },
         {
          "bandcenter_ghz": 89.85162823358047,
          "bandwidth_ghz": 22.680811825144087,
          "fwhm_arcmin": 9.246935972183039,
          "fwhm_deg": 0.15411559953638398,
          "index": 43
         },
         {
          "bandcenter_ghz": 89.78097754363401,
          "bandwidth_ghz": 22.495706548340063,
          "fwhm_arcmin": 9.005955132630469,
          "fwhm_deg": 0.1500992522105078,
          "index": 44
         },
         {
          "bandcenter_ghz": 89.37882470037685,
          "bandwidth_ghz": 22.884702067159864,
          "fwhm_arcmin": 9.912128731799392,
          "fwhm_deg": 0.16520214552998985,
          "index": 45
         },
         {
          "bandcenter_ghz": 88.98354468688373,
          "bandwidth_ghz": 22.38377587028183,
          "fwhm_arcmin": 9.43318253593079,
          "fwhm_deg": 0.15721970893217985,
          "index": 46
         },
         {
          "bandcenter_ghz": 90.60049912558456,
          "bandwidth_ghz": 21.72263940237255,
          "fwhm_arcmin": 9.636499390003836,
          "fwhm_deg": 0.1606083231667306,
          "index": 47
         },
         {
          "bandcenter_ghz": 88.04003937736712,
          "bandwidth_ghz": 21.451507324141627,
          "fwhm_arcmin": 9.567592003599398,
          "fwhm_deg": 0.15945986672665663,
          "index": 48
         },
         {
          "bandcenter_ghz": 89.24138505872033,
          "bandwidth_ghz": 22.334596319774672,
          "fwhm_arcmin": 9.658567351856059,
          "fwhm_deg": 0.16097612253093432,
          "index": 49
         },
         {
          "bandcenter_ghz": 89.8023715395138,
          "bandwidth_ghz": 22.878833135329188,
          "fwhm_arcmin": 9.116455688622695,
          "fwhm_deg": 0.15194092814371157,
          "index": 50
         },
         {
          "bandcenter_ghz": 89.05319635216776,
          "bandwidth_ghz": 22.09807952435475,
          "fwhm_arcmin": 9.66431366835237,
          "fwhm_deg": 0.1610718944725395,
          "index": 51
         },
         {
          "bandcenter_ghz": 90.21837079599239,
          "bandwidth_ghz": 23.293996602136065,
          "fwhm_arcmin": 9.225527303971816,
          "fwhm_deg": 0.15375878839953028,
          "index": 52
         },
         {
          "bandcenter_ghz": 88.47169622331266,
          "bandwidth_ghz": 21.623541775795182,
          "fwhm_arcmin": 8.819500481382036,
          "fwhm_deg": 0.1469916746897006,
          "index": 53
         },
         {
          "bandcenter_ghz": 90.635430717655,
          "bandwidth_ghz": 23.078528988081402,
          "fwhm_arcmin": 9.665492453174544,
          "fwhm_deg": 0.1610915408862424,
          "index": 54
         },
         {
          "bandcenter_ghz": 90.06100617229262,
          "bandwidth_ghz": 22.476748671480514,
          "fwhm_arcmin": 9.920505402871337,
          "fwhm_deg": 0.16534175671452228,
          "index": 55
         },
         {
          "bandcenter_ghz": 89.04257701473968,
          "bandwidth_ghz": 22.712151049195146,
          "fwhm_arcmin": 9.420779357459825,
          "fwhm_deg": 0.15701298929099708,
          "index": 56
         },
         {
          "bandcenter_ghz": 89.33364813187906,
          "bandwidth_ghz": 22.866479270250313,
          "fwhm_arcmin": 9.650005480297036,
          "fwhm_deg": 0.16083342467161726,
          "index": 57
         },
         {
          "bandcenter_ghz": 88.91556061514062,
          "bandwidth_ghz": 22.416216447106073,
          "fwhm_arcmin": 9.273862446087717,
          "fwhm_deg": 0.15456437410146195,
          "index": 58
         },
         {
          "bandcenter_ghz": 88.86746430695925,
          "bandwidth_ghz": 21.476461740227972,
          "fwhm_arcmin": 9.19446453654334,
          "fwhm_deg": 0.15324107560905567,
          "index": 59
         },
         {
          "bandcenter_ghz": 90.22783357547493,
          "bandwidth_ghz": 21.248221909806283,
          "fwhm_arcmin": 9.476683993945379,
          "fwhm_deg": 0.15794473323242297,
          "index": 60
         },
         {
          "bandcenter_ghz": 86.89852076992003,
          "bandwidth_ghz": 22.391476579426755,
          "fwhm_arcmin": 9.045633114052974,
          "fwhm_deg": 0.1507605519008829,
          "index": 61
         },
         {
          "bandcenter_ghz": 88.42600544303565,
          "bandwidth_ghz": 22.26686479306175,
          "fwhm_arcmin": 8.967965410305354,
          "fwhm_deg": 0.14946609017175588,
          "index": 62
         },
         {
          "bandcenter_ghz": 89.60687152535436,
          "bandwidth_ghz": 21.81211553150533,
          "fwhm_arcmin": 9.786573162110534,
          "fwhm_deg": 0.16310955270184221,
          "index": 63
         },
         {
          "bandcenter_ghz": 89.23257244142944,
          "bandwidth_ghz": 22.6255311029723,
          "fwhm_arcmin": 9.553719906745947,
          "fwhm_deg": 0.15922866511243244,
          "index": 64
         },
         {
          "bandcenter_ghz": 89.18527039481089,
          "bandwidth_ghz": 22.057875012962764,
          "fwhm_arcmin": 9.51537755178019,
          "fwhm_deg": 0.15858962586300318,
          "index": 65
         },
         {
          "bandcenter_ghz": 88.99298911183374,
          "bandwidth_ghz": 22.70050120338989,
          "fwhm_arcmin": 9.551706194543613,
          "fwhm_deg": 0.15919510324239355,
          "index": 66
         },
         {
          "bandcenter_ghz": 89.5176607609678,
          "bandwidth_ghz": 22.222923645865997,
          "fwhm_arcmin": 9.579188479155887,
          "fwhm_deg": 0.15965314131926478,
          "index": 67
         },
         {
          "bandcenter_ghz": 89.92372037832588,
          "bandwidth_ghz": 22.530735211324885,
          "fwhm_arcmin": 9.584319430864193,
          "fwhm_deg": 0.1597386571810699,
          "index": 68
         },
         {
          "bandcenter_ghz": 88.79311482520278,
          "bandwidth_ghz": 22.403171481754548,
          "fwhm_arcmin": 9.414087266421456,
          "fwhm_deg": 0.1569014544403576,
          "index": 69
         },
         {
          "bandcenter_ghz": 88.90654829124776,
          "bandwidth_ghz": 22.08327969500864,
          "fwhm_arcmin": 9.620413439026915,
          "fwhm_deg": 0.16034022398378192,
          "index": 70
         },
         {
          "bandcenter_ghz": 89.2525428371464,
          "bandwidth_ghz": 22.407661045045778,
          "fwhm_arcmin": 8.892127454792188,
          "fwhm_deg": 0.14820212424653648,
          "index": 71
         },
         {
          "bandcenter_ghz": 88.0738889838548,
          "bandwidth_ghz": 22.298350748216215,
          "fwhm_arcmin": 9.275443816411174,
          "fwhm_deg": 0.15459073027351958,
          "index": 72
         },
         {
          "bandcenter_ghz": 88.83336811248233,
          "bandwidth_ghz": 22.714464407738934,
          "fwhm_arcmin": 9.733036678291061,
          "fwhm_deg": 0.1622172779715177,
          "index": 73
         },
         {
          "bandcenter_ghz": 89.75488793255992,
          "bandwidth_ghz": 23.32912015004215,
          "fwhm_arcmin": 9.531076467631099,
          "fwhm_deg": 0.1588512744605183,
          "index": 74
         },
         {
          "bandcenter_ghz": 89.89616294602884,
          "bandwidth_ghz": 22.77634773518361,
          "fwhm_arcmin": 9.607100606320012,
          "fwhm_deg": 0.16011834343866688,
          "index": 75
         },
         {
          "bandcenter_ghz": 89.64991729228993,
          "bandwidth_ghz": 21.47235719948196,
          "fwhm_arcmin": 9.368114992292432,
          "fwhm_deg": 0.15613524987154054,
          "index": 76
         },
         {
          "bandcenter_ghz": 90.00191754267397,
          "bandwidth_ghz": 22.29048171536252,
          "fwhm_arcmin": 9.673502072073326,
          "fwhm_deg": 0.16122503453455544,
          "index": 77
         },
         {
          "bandcenter_ghz": 88.51443454165292,
          "bandwidth_ghz": 23.150817009677514,
          "fwhm_arcmin": 9.613929176349398,
          "fwhm_deg": 0.16023215293915663,
          "index": 78
         },
         {
          "bandcenter_ghz": 89.11225253212594,
          "bandwidth_ghz": 22.332881783862003,
          "fwhm_arcmin": 9.207814298845243,
          "fwhm_deg": 0.15346357164742072,
          "index": 79
         },
         {
          "bandcenter_ghz": 90.19314462634617,
          "bandwidth_ghz": 22.498393231471873,
          "fwhm_arcmin": 8.944922322845045,
          "fwhm_deg": 0.14908203871408407,
          "index": 80
         },
         {
          "bandcenter_ghz": 88.63037812216002,
          "bandwidth_ghz": 22.608281867942534,
          "fwhm_arcmin": 9.674295772914057,
          "fwhm_deg": 0.16123826288190096,
          "index": 81
         },
         {
          "bandcenter_ghz": 88.6643405961196,
          "bandwidth_ghz": 22.552197607678472,
          "fwhm_arcmin": 9.458243247965408,
          "fwhm_deg": 0.15763738746609013,
          "index": 82
         },
         {
          "bandcenter_ghz": 89.2020304355366,
          "bandwidth_ghz": 22.806661332614766,
          "fwhm_arcmin": 9.80134611159097,
          "fwhm_deg": 0.16335576852651618,
          "index": 83
         },
         {
          "bandcenter_ghz": 90.81015248745315,
          "bandwidth_ghz": 21.737594549034693,
          "fwhm_arcmin": 9.628285722256365,
          "fwhm_deg": 0.16047142870427275,
          "index": 84
         },
         {
          "bandcenter_ghz": 91.06337927301733,
          "bandwidth_ghz": 21.850072866826743,
          "fwhm_arcmin": 9.545323769507867,
          "fwhm_deg": 0.15908872949179778,
          "index": 85
         },
         {
          "bandcenter_ghz": 88.50435477034837,
          "bandwidth_ghz": 22.27312706246446,
          "fwhm_arcmin": 9.24450299579426,
          "fwhm_deg": 0.15407504992990434,
          "index": 86
         },
         {
          "bandcenter_ghz": 89.4300603321695,
          "bandwidth_ghz": 22.55378942907313,
          "fwhm_arcmin": 9.581831600333087,
          "fwhm_deg": 0.1596971933388848,
          "index": 87
         },
         {
          "bandcenter_ghz": 88.6089880498783,
          "bandwidth_ghz": 21.88879754278556,
          "fwhm_arcmin": 9.925306579647476,
          "fwhm_deg": 0.16542177632745791,
          "index": 88
         },
         {
          "bandcenter_ghz": 91.68483456244572,
          "bandwidth_ghz": 22.408680607198587,
          "fwhm_arcmin": 9.385420963653731,
          "fwhm_deg": 0.15642368272756219,
          "index": 89
         },
         {
          "bandcenter_ghz": 87.97263630214083,
          "bandwidth_ghz": 23.08681492979988,
          "fwhm_arcmin": 9.469654207255019,
          "fwhm_deg": 0.15782757012091697,
          "index": 90
         },
         {
          "bandcenter_ghz": 89.45558277086595,
          "bandwidth_ghz": 22.432221655375056,
          "fwhm_arcmin": 9.348758810792514,
          "fwhm_deg": 0.1558126468465419,
          "index": 91
         },
         {
          "bandcenter_ghz": 90.80510954623176,
          "bandwidth_ghz": 22.45659557295196,
          "fwhm_arcmin": 9.51988119512903,
          "fwhm_deg": 0.15866468658548383,
          "index": 92
         },
         {
          "bandcenter_ghz": 89.50188907202008,
          "bandwidth_ghz": 22.273212016799125,
          "fwhm_arcmin": 9.219692097163067,
          "fwhm_deg": 0.15366153495271778,
          "index": 93
         },
         {
          "bandcenter_ghz": 89.65607113681412,
          "bandwidth_ghz": 22.522692046994052,
          "fwhm_arcmin": 9.455540307781215,
          "fwhm_deg": 0.15759233846302026,
          "index": 94
         },
         {
          "bandcenter_ghz": 91.36252159794493,
          "bandwidth_ghz": 22.76219407282407,
          "fwhm_arcmin": 9.148619753282764,
          "fwhm_deg": 0.15247699588804606,
          "index": 95
         },
         {
          "bandcenter_ghz": 89.3658375317145,
          "bandwidth_ghz": 23.106362345415288,
          "fwhm_arcmin": 9.48243371138322,
          "fwhm_deg": 0.15804056185638699,
          "index": 96
         },
         {
          "bandcenter_ghz": 88.03602900267153,
          "bandwidth_ghz": 22.540915876897422,
          "fwhm_arcmin": 10.039327371766094,
          "fwhm_deg": 0.16732212286276824,
          "index": 97
         },
         {
          "bandcenter_ghz": 89.97585051494998,
          "bandwidth_ghz": 22.377365126454727,
          "fwhm_arcmin": 9.287339785581668,
          "fwhm_deg": 0.15478899642636115,
          "index": 98
         },
         {
          "bandcenter_ghz": 90.30435336640161,
          "bandwidth_ghz": 22.490884790809222,
          "fwhm_arcmin": 8.959193255461845,
          "fwhm_deg": 0.14931988759103074,
          "index": 99
         },
         {
          "bandcenter_ghz": 88.4527923005089,
          "bandwidth_ghz": 22.79928865779956,
          "fwhm_arcmin": 9.367331160248732,
          "fwhm_deg": 0.1561221860041455,
          "index": 100
         },
         {
          "bandcenter_ghz": 90.47990872870304,
          "bandwidth_ghz": 21.540599244844966,
          "fwhm_arcmin": 9.541936355293219,
          "fwhm_deg": 0.1590322725882203,
          "index": 101
         },
         {
          "bandcenter_ghz": 90.23532879488765,
          "bandwidth_ghz": 22.632874785248006,
          "fwhm_arcmin": 9.739035445630698,
          "fwhm_deg": 0.1623172574271783,
          "index": 102
         },
         {
          "bandcenter_ghz": 89.15184760081459,
          "bandwidth_ghz": 21.782698937980662,
          "fwhm_arcmin": 9.087745802878532,
          "fwhm_deg": 0.15146243004797552,
          "index": 103
         },
         {
          "bandcenter_ghz": 89.86872608329182,
          "bandwidth_ghz": 21.526364158725052,
          "fwhm_arcmin": 9.104708308416729,
          "fwhm_deg": 0.15174513847361215,
          "index": 104
         },
         {
          "bandcenter_ghz": 89.77018215504744,
          "bandwidth_ghz": 21.82885622520978,
          "fwhm_arcmin": 10.025165766437247,
          "fwhm_deg": 0.16708609610728745,
          "index": 105
         },
         {
          "bandcenter_ghz": 88.000768843141,
          "bandwidth_ghz": 22.502916319561773,
          "fwhm_arcmin": 9.230836691982242,
          "fwhm_deg": 0.15384727819970404,
          "index": 106
         },
         {
          "bandcenter_ghz": 89.42710609059122,
          "bandwidth_ghz": 23.29737216644918,
          "fwhm_arcmin": 9.884302244233838,
          "fwhm_deg": 0.16473837073723063,
          "index": 107
         },
         {
          "bandcenter_ghz": 88.90539677144174,
          "bandwidth_ghz": 21.80999365646949,
          "fwhm_arcmin": 9.86335471443436,
          "fwhm_deg": 0.16438924524057266,
          "index": 108
         },
         {
          "bandcenter_ghz": 88.34023213634892,
          "bandwidth_ghz": 22.695962130015673,
          "fwhm_arcmin": 9.431805619314613,
          "fwhm_deg": 0.1571967603219102,
          "index": 109
         },
         {
          "bandcenter_ghz": 88.34571213459967,
          "bandwidth_ghz": 23.07743134026308,
          "fwhm_arcmin": 9.306701005081306,
          "fwhm_deg": 0.15511168341802178,
          "index": 110
         },
         {
          "bandcenter_ghz": 88.22056315796327,
          "bandwidth_ghz": 22.172417817093304,
          "fwhm_arcmin": 9.365863473767996,
          "fwhm_deg": 0.15609772456279994,
          "index": 111
         },
         {
          "bandcenter_ghz": 90.21353073743413,
          "bandwidth_ghz": 22.971677849694377,
          "fwhm_arcmin": 8.791509431999195,
          "fwhm_deg": 0.1465251571999866,
          "index": 112
         },
         {
          "bandcenter_ghz": 90.11823671098973,
          "bandwidth_ghz": 22.020095957641395,
          "fwhm_arcmin": 9.636609065922,
          "fwhm_deg": 0.1606101510987,
          "index": 113
         },
         {
          "bandcenter_ghz": 91.01640967707898,
          "bandwidth_ghz": 22.72709369437436,
          "fwhm_arcmin": 9.418526617396306,
          "fwhm_deg": 0.1569754436232718,
          "index": 114
         },
         {
          "bandcenter_ghz": 90.7181227054358,
          "bandwidth_ghz": 22.359563462481013,
          "fwhm_arcmin": 9.406810613785881,
          "fwhm_deg": 0.15678017689643134,
          "index": 115
         },
         {
          "bandcenter_ghz": 89.34933443447655,
          "bandwidth_ghz": 22.641361994075986,
          "fwhm_arcmin": 9.05504340615153,
          "fwhm_deg": 0.1509173901025255,
          "index": 116
         },
         {
          "bandcenter_ghz": 90.55211479556891,
          "bandwidth_ghz": 22.513426926808183,
          "fwhm_arcmin": 9.586725974132229,
          "fwhm_deg": 0.15977876623553713,
          "index": 117
         },
         {
          "bandcenter_ghz": 88.04132783261701,
          "bandwidth_ghz": 21.728177628640733,
          "fwhm_arcmin": 9.246976441113922,
          "fwhm_deg": 0.15411627401856537,
          "index": 118
         },
         {
          "bandcenter_ghz": 88.67246497776925,
          "bandwidth_ghz": 22.59635716933519,
          "fwhm_arcmin": 9.374729139092706,
          "fwhm_deg": 0.15624548565154509,
          "index": 119
         },
         {
          "bandcenter_ghz": 89.45388294605597,
          "bandwidth_ghz": 22.398286201044243,
          "fwhm_arcmin": 9.927841279005927,
          "fwhm_deg": 0.16546402131676544,
          "index": 120
         },
         {
          "bandcenter_ghz": 88.88951165954265,
          "bandwidth_ghz": 22.01493773413285,
          "fwhm_arcmin": 10.002470591668915,
          "fwhm_deg": 0.16670784319448193,
          "index": 121
         }
        ]
       },
       "encoding": {
        "x": {
         "field": "index",
         "type": "quantitative"
        },
        "y": {
         "field": "fwhm_arcmin",
         "type": "quantitative"
        }
       },
       "mark": "point"
      },
      "image/png": "[encoded data removed]",
      "text/plain": [
       "<VegaLite 2 object>\n",
       "\n",
       "If you see this message, it means the renderer has not been properly enabled\n",
       "for the frontend that you are using. For more information, see\n",
       "https://altair-viz.github.io/user_guide/troubleshooting.html\n"
      ]
     },
     "execution_count": 27,
     "metadata": {},
     "output_type": "execute_result"
    }
   ],
   "source": [
    "import altair as alt\n",
    "from vega_datasets import data\n",
    "\n",
    "alt.Chart(a).mark_point().encode(x=\"index\", y=\"fwhm_arcmin\")"
   ]
  },
  {
   "cell_type": "code",
   "execution_count": 28,
   "metadata": {},
   "outputs": [
    {
     "data": {
      "application/vnd.vegalite.v2+json": {
       "$schema": "https://vega.github.io/schema/vega-lite/v2.6.0.json",
       "config": {
        "view": {
         "height": 300,
         "width": 400
        }
       },
       "datasets": {
        "data-4fc8b6ad00ead143f7f729ffa85837da": [
         {
          "bandcenter_ghz": 90.71265546906,
          "bandwidth_ghz": 21.63712115890996,
          "fwhm_arcmin": 9.477997810619138,
          "fwhm_deg": 0.15796663017698565,
          "index": 0
         },
         {
          "bandcenter_ghz": 89.16799522717268,
          "bandwidth_ghz": 21.828557599749395,
          "fwhm_arcmin": 9.490876966863858,
          "fwhm_deg": 0.1581812827810643,
          "index": 1
         },
         {
          "bandcenter_ghz": 88.53444689287453,
          "bandwidth_ghz": 22.968046879652974,
          "fwhm_arcmin": 9.879223139860203,
          "fwhm_deg": 0.16465371899767006,
          "index": 2
         },
         {
          "bandcenter_ghz": 90.57514846782985,
          "bandwidth_ghz": 22.402304846955488,
          "fwhm_arcmin": 9.35492728765808,
          "fwhm_deg": 0.15591545479430133,
          "index": 3
         },
         {
          "bandcenter_ghz": 89.26549564144638,
          "bandwidth_ghz": 22.97656426039775,
          "fwhm_arcmin": 9.667323289081594,
          "fwhm_deg": 0.16112205481802658,
          "index": 4
         },
         {
          "bandcenter_ghz": 87.84123055619483,
          "bandwidth_ghz": 22.175213454769214,
          "fwhm_arcmin": 9.615043012231544,
          "fwhm_deg": 0.16025071687052572,
          "index": 5
         },
         {
          "bandcenter_ghz": 92.06338354618808,
          "bandwidth_ghz": 21.893691103724194,
          "fwhm_arcmin": 9.229110345641514,
          "fwhm_deg": 0.1538185057606919,
          "index": 6
         },
         {
          "bandcenter_ghz": 88.73764286905859,
          "bandwidth_ghz": 22.165078566053474,
          "fwhm_arcmin": 9.607397990016972,
          "fwhm_deg": 0.1601232998336162,
          "index": 7
         },
         {
          "bandcenter_ghz": 90.23451324378051,
          "bandwidth_ghz": 22.630186814660348,
          "fwhm_arcmin": 9.993341583424291,
          "fwhm_deg": 0.16655569305707152,
          "index": 8
         },
         {
          "bandcenter_ghz": 88.92828491978065,
          "bandwidth_ghz": 21.455877009546153,
          "fwhm_arcmin": 9.924941539372853,
          "fwhm_deg": 0.16541569232288086,
          "index": 9
         },
         {
          "bandcenter_ghz": 89.2799282731399,
          "bandwidth_ghz": 22.695121720898683,
          "fwhm_arcmin": 9.733626939632718,
          "fwhm_deg": 0.1622271156605453,
          "index": 10
         },
         {
          "bandcenter_ghz": 88.55480889367674,
          "bandwidth_ghz": 22.686829328900163,
          "fwhm_arcmin": 9.842585904164018,
          "fwhm_deg": 0.16404309840273362,
          "index": 11
         },
         {
          "bandcenter_ghz": 89.4631030294094,
          "bandwidth_ghz": 23.030721707047885,
          "fwhm_arcmin": 9.858229811927245,
          "fwhm_deg": 0.16430383019878742,
          "index": 12
         },
         {
          "bandcenter_ghz": 90.16258108209293,
          "bandwidth_ghz": 23.124108807590595,
          "fwhm_arcmin": 9.306505958504653,
          "fwhm_deg": 0.1551084326417442,
          "index": 13
         },
         {
          "bandcenter_ghz": 90.24540970007276,
          "bandwidth_ghz": 22.123789485518397,
          "fwhm_arcmin": 9.761259043437116,
          "fwhm_deg": 0.16268765072395194,
          "index": 14
         },
         {
          "bandcenter_ghz": 88.84146475862475,
          "bandwidth_ghz": 21.701578496583483,
          "fwhm_arcmin": 9.266898634298464,
          "fwhm_deg": 0.15444831057164107,
          "index": 15
         },
         {
          "bandcenter_ghz": 88.88464911039364,
          "bandwidth_ghz": 22.389085982358896,
          "fwhm_arcmin": 9.407387764670766,
          "fwhm_deg": 0.1567897960778461,
          "index": 16
         },
         {
          "bandcenter_ghz": 89.78677104992158,
          "bandwidth_ghz": 22.664199315006616,
          "fwhm_arcmin": 9.381743348783976,
          "fwhm_deg": 0.1563623891463996,
          "index": 17
         },
         {
          "bandcenter_ghz": 91.1791264279274,
          "bandwidth_ghz": 22.172275123491247,
          "fwhm_arcmin": 9.097411357942745,
          "fwhm_deg": 0.15162352263237908,
          "index": 18
         },
         {
          "bandcenter_ghz": 90.13395122403718,
          "bandwidth_ghz": 23.20221473235367,
          "fwhm_arcmin": 9.81688997894032,
          "fwhm_deg": 0.16361483298233867,
          "index": 19
         },
         {
          "bandcenter_ghz": 89.04211570663045,
          "bandwidth_ghz": 22.252389939709953,
          "fwhm_arcmin": 9.367392753206056,
          "fwhm_deg": 0.15612321255343428,
          "index": 20
         },
         {
          "bandcenter_ghz": 89.3041135808461,
          "bandwidth_ghz": 22.448538693498737,
          "fwhm_arcmin": 9.873972973851297,
          "fwhm_deg": 0.16456621623085493,
          "index": 21
         },
         {
          "bandcenter_ghz": 90.04819062891413,
          "bandwidth_ghz": 22.244705828461218,
          "fwhm_arcmin": 9.210193192480261,
          "fwhm_deg": 0.15350321987467103,
          "index": 22
         },
         {
          "bandcenter_ghz": 90.32874173501968,
          "bandwidth_ghz": 22.391945887201626,
          "fwhm_arcmin": 9.294246842622323,
          "fwhm_deg": 0.15490411404370538,
          "index": 23
         },
         {
          "bandcenter_ghz": 90.65881504449608,
          "bandwidth_ghz": 22.34146235426067,
          "fwhm_arcmin": 9.447267547633068,
          "fwhm_deg": 0.1574544591272178,
          "index": 24
         },
         {
          "bandcenter_ghz": 89.9775946702926,
          "bandwidth_ghz": 21.704466948876377,
          "fwhm_arcmin": 8.593534614067313,
          "fwhm_deg": 0.14322557690112186,
          "index": 25
         },
         {
          "bandcenter_ghz": 91.36021727869114,
          "bandwidth_ghz": 22.159873885914635,
          "fwhm_arcmin": 9.698322965167472,
          "fwhm_deg": 0.16163871608612454,
          "index": 26
         },
         {
          "bandcenter_ghz": 87.8098466016035,
          "bandwidth_ghz": 22.594413170450505,
          "fwhm_arcmin": 9.304302820361546,
          "fwhm_deg": 0.15507171367269243,
          "index": 27
         },
         {
          "bandcenter_ghz": 89.10066193839452,
          "bandwidth_ghz": 23.109289591326323,
          "fwhm_arcmin": 9.634240723971779,
          "fwhm_deg": 0.160570678732863,
          "index": 28
         },
         {
          "bandcenter_ghz": 91.3859024395774,
          "bandwidth_ghz": 22.149520431076002,
          "fwhm_arcmin": 9.287468967737745,
          "fwhm_deg": 0.15479114946229575,
          "index": 29
         },
         {
          "bandcenter_ghz": 88.03677999820746,
          "bandwidth_ghz": 22.470691351248416,
          "fwhm_arcmin": 9.817278085025197,
          "fwhm_deg": 0.16362130141708664,
          "index": 30
         },
         {
          "bandcenter_ghz": 90.156782542871,
          "bandwidth_ghz": 22.519555510375977,
          "fwhm_arcmin": 9.60463022273763,
          "fwhm_deg": 0.1600771703789605,
          "index": 31
         },
         {
          "bandcenter_ghz": 89.44169821247381,
          "bandwidth_ghz": 22.152569952542606,
          "fwhm_arcmin": 10.01049874240258,
          "fwhm_deg": 0.16684164570670967,
          "index": 32
         },
         {
          "bandcenter_ghz": 87.6043686035357,
          "bandwidth_ghz": 22.711902702353434,
          "fwhm_arcmin": 9.498585855840165,
          "fwhm_deg": 0.15830976426400276,
          "index": 33
         },
         {
          "bandcenter_ghz": 89.19695866667156,
          "bandwidth_ghz": 22.813006721112053,
          "fwhm_arcmin": 9.263455866800392,
          "fwhm_deg": 0.15439093111333987,
          "index": 34
         },
         {
          "bandcenter_ghz": 89.96033415865439,
          "bandwidth_ghz": 22.64856082361576,
          "fwhm_arcmin": 9.396715174098937,
          "fwhm_deg": 0.1566119195683156,
          "index": 35
         },
         {
          "bandcenter_ghz": 88.26598978515665,
          "bandwidth_ghz": 22.106066366155396,
          "fwhm_arcmin": 9.749397788721707,
          "fwhm_deg": 0.16248996314536177,
          "index": 36
         },
         {
          "bandcenter_ghz": 88.30295988280523,
          "bandwidth_ghz": 22.43418140859185,
          "fwhm_arcmin": 9.387466797645667,
          "fwhm_deg": 0.1564577799607611,
          "index": 37
         },
         {
          "bandcenter_ghz": 88.69332302611475,
          "bandwidth_ghz": 22.48090403511241,
          "fwhm_arcmin": 9.970690963228295,
          "fwhm_deg": 0.16617818272047158,
          "index": 38
         },
         {
          "bandcenter_ghz": 89.49412299717793,
          "bandwidth_ghz": 22.617651003296444,
          "fwhm_arcmin": 9.584488979653328,
          "fwhm_deg": 0.15974148299422214,
          "index": 39
         },
         {
          "bandcenter_ghz": 88.23628231784666,
          "bandwidth_ghz": 22.825816654080114,
          "fwhm_arcmin": 9.293293028065161,
          "fwhm_deg": 0.15488821713441936,
          "index": 40
         },
         {
          "bandcenter_ghz": 89.83651640593256,
          "bandwidth_ghz": 22.65270633988077,
          "fwhm_arcmin": 9.55944938419674,
          "fwhm_deg": 0.159324156403279,
          "index": 41
         },
         {
          "bandcenter_ghz": 89.82593234107227,
          "bandwidth_ghz": 23.34225627843627,
          "fwhm_arcmin": 9.249875328354818,
          "fwhm_deg": 0.15416458880591363,
          "index": 42
         },
         {
          "bandcenter_ghz": 89.85162823358047,
          "bandwidth_ghz": 22.680811825144087,
          "fwhm_arcmin": 9.246935972183039,
          "fwhm_deg": 0.15411559953638398,
          "index": 43
         },
         {
          "bandcenter_ghz": 89.78097754363401,
          "bandwidth_ghz": 22.495706548340063,
          "fwhm_arcmin": 9.005955132630469,
          "fwhm_deg": 0.1500992522105078,
          "index": 44
         },
         {
          "bandcenter_ghz": 89.37882470037685,
          "bandwidth_ghz": 22.884702067159864,
          "fwhm_arcmin": 9.912128731799392,
          "fwhm_deg": 0.16520214552998985,
          "index": 45
         },
         {
          "bandcenter_ghz": 88.98354468688373,
          "bandwidth_ghz": 22.38377587028183,
          "fwhm_arcmin": 9.43318253593079,
          "fwhm_deg": 0.15721970893217985,
          "index": 46
         },
         {
          "bandcenter_ghz": 90.60049912558456,
          "bandwidth_ghz": 21.72263940237255,
          "fwhm_arcmin": 9.636499390003836,
          "fwhm_deg": 0.1606083231667306,
          "index": 47
         },
         {
          "bandcenter_ghz": 88.04003937736712,
          "bandwidth_ghz": 21.451507324141627,
          "fwhm_arcmin": 9.567592003599398,
          "fwhm_deg": 0.15945986672665663,
          "index": 48
         },
         {
          "bandcenter_ghz": 89.24138505872033,
          "bandwidth_ghz": 22.334596319774672,
          "fwhm_arcmin": 9.658567351856059,
          "fwhm_deg": 0.16097612253093432,
          "index": 49
         },
         {
          "bandcenter_ghz": 89.8023715395138,
          "bandwidth_ghz": 22.878833135329188,
          "fwhm_arcmin": 9.116455688622695,
          "fwhm_deg": 0.15194092814371157,
          "index": 50
         },
         {
          "bandcenter_ghz": 89.05319635216776,
          "bandwidth_ghz": 22.09807952435475,
          "fwhm_arcmin": 9.66431366835237,
          "fwhm_deg": 0.1610718944725395,
          "index": 51
         },
         {
          "bandcenter_ghz": 90.21837079599239,
          "bandwidth_ghz": 23.293996602136065,
          "fwhm_arcmin": 9.225527303971816,
          "fwhm_deg": 0.15375878839953028,
          "index": 52
         },
         {
          "bandcenter_ghz": 88.47169622331266,
          "bandwidth_ghz": 21.623541775795182,
          "fwhm_arcmin": 8.819500481382036,
          "fwhm_deg": 0.1469916746897006,
          "index": 53
         },
         {
          "bandcenter_ghz": 90.635430717655,
          "bandwidth_ghz": 23.078528988081402,
          "fwhm_arcmin": 9.665492453174544,
          "fwhm_deg": 0.1610915408862424,
          "index": 54
         },
         {
          "bandcenter_ghz": 90.06100617229262,
          "bandwidth_ghz": 22.476748671480514,
          "fwhm_arcmin": 9.920505402871337,
          "fwhm_deg": 0.16534175671452228,
          "index": 55
         },
         {
          "bandcenter_ghz": 89.04257701473968,
          "bandwidth_ghz": 22.712151049195146,
          "fwhm_arcmin": 9.420779357459825,
          "fwhm_deg": 0.15701298929099708,
          "index": 56
         },
         {
          "bandcenter_ghz": 89.33364813187906,
          "bandwidth_ghz": 22.866479270250313,
          "fwhm_arcmin": 9.650005480297036,
          "fwhm_deg": 0.16083342467161726,
          "index": 57
         },
         {
          "bandcenter_ghz": 88.91556061514062,
          "bandwidth_ghz": 22.416216447106073,
          "fwhm_arcmin": 9.273862446087717,
          "fwhm_deg": 0.15456437410146195,
          "index": 58
         },
         {
          "bandcenter_ghz": 88.86746430695925,
          "bandwidth_ghz": 21.476461740227972,
          "fwhm_arcmin": 9.19446453654334,
          "fwhm_deg": 0.15324107560905567,
          "index": 59
         },
         {
          "bandcenter_ghz": 90.22783357547493,
          "bandwidth_ghz": 21.248221909806283,
          "fwhm_arcmin": 9.476683993945379,
          "fwhm_deg": 0.15794473323242297,
          "index": 60
         },
         {
          "bandcenter_ghz": 86.89852076992003,
          "bandwidth_ghz": 22.391476579426755,
          "fwhm_arcmin": 9.045633114052974,
          "fwhm_deg": 0.1507605519008829,
          "index": 61
         },
         {
          "bandcenter_ghz": 88.42600544303565,
          "bandwidth_ghz": 22.26686479306175,
          "fwhm_arcmin": 8.967965410305354,
          "fwhm_deg": 0.14946609017175588,
          "index": 62
         },
         {
          "bandcenter_ghz": 89.60687152535436,
          "bandwidth_ghz": 21.81211553150533,
          "fwhm_arcmin": 9.786573162110534,
          "fwhm_deg": 0.16310955270184221,
          "index": 63
         },
         {
          "bandcenter_ghz": 89.23257244142944,
          "bandwidth_ghz": 22.6255311029723,
          "fwhm_arcmin": 9.553719906745947,
          "fwhm_deg": 0.15922866511243244,
          "index": 64
         },
         {
          "bandcenter_ghz": 89.18527039481089,
          "bandwidth_ghz": 22.057875012962764,
          "fwhm_arcmin": 9.51537755178019,
          "fwhm_deg": 0.15858962586300318,
          "index": 65
         },
         {
          "bandcenter_ghz": 88.99298911183374,
          "bandwidth_ghz": 22.70050120338989,
          "fwhm_arcmin": 9.551706194543613,
          "fwhm_deg": 0.15919510324239355,
          "index": 66
         },
         {
          "bandcenter_ghz": 89.5176607609678,
          "bandwidth_ghz": 22.222923645865997,
          "fwhm_arcmin": 9.579188479155887,
          "fwhm_deg": 0.15965314131926478,
          "index": 67
         },
         {
          "bandcenter_ghz": 89.92372037832588,
          "bandwidth_ghz": 22.530735211324885,
          "fwhm_arcmin": 9.584319430864193,
          "fwhm_deg": 0.1597386571810699,
          "index": 68
         },
         {
          "bandcenter_ghz": 88.79311482520278,
          "bandwidth_ghz": 22.403171481754548,
          "fwhm_arcmin": 9.414087266421456,
          "fwhm_deg": 0.1569014544403576,
          "index": 69
         },
         {
          "bandcenter_ghz": 88.90654829124776,
          "bandwidth_ghz": 22.08327969500864,
          "fwhm_arcmin": 9.620413439026915,
          "fwhm_deg": 0.16034022398378192,
          "index": 70
         },
         {
          "bandcenter_ghz": 89.2525428371464,
          "bandwidth_ghz": 22.407661045045778,
          "fwhm_arcmin": 8.892127454792188,
          "fwhm_deg": 0.14820212424653648,
          "index": 71
         },
         {
          "bandcenter_ghz": 88.0738889838548,
          "bandwidth_ghz": 22.298350748216215,
          "fwhm_arcmin": 9.275443816411174,
          "fwhm_deg": 0.15459073027351958,
          "index": 72
         },
         {
          "bandcenter_ghz": 88.83336811248233,
          "bandwidth_ghz": 22.714464407738934,
          "fwhm_arcmin": 9.733036678291061,
          "fwhm_deg": 0.1622172779715177,
          "index": 73
         },
         {
          "bandcenter_ghz": 89.75488793255992,
          "bandwidth_ghz": 23.32912015004215,
          "fwhm_arcmin": 9.531076467631099,
          "fwhm_deg": 0.1588512744605183,
          "index": 74
         },
         {
          "bandcenter_ghz": 89.89616294602884,
          "bandwidth_ghz": 22.77634773518361,
          "fwhm_arcmin": 9.607100606320012,
          "fwhm_deg": 0.16011834343866688,
          "index": 75
         },
         {
          "bandcenter_ghz": 89.64991729228993,
          "bandwidth_ghz": 21.47235719948196,
          "fwhm_arcmin": 9.368114992292432,
          "fwhm_deg": 0.15613524987154054,
          "index": 76
         },
         {
          "bandcenter_ghz": 90.00191754267397,
          "bandwidth_ghz": 22.29048171536252,
          "fwhm_arcmin": 9.673502072073326,
          "fwhm_deg": 0.16122503453455544,
          "index": 77
         },
         {
          "bandcenter_ghz": 88.51443454165292,
          "bandwidth_ghz": 23.150817009677514,
          "fwhm_arcmin": 9.613929176349398,
          "fwhm_deg": 0.16023215293915663,
          "index": 78
         },
         {
          "bandcenter_ghz": 89.11225253212594,
          "bandwidth_ghz": 22.332881783862003,
          "fwhm_arcmin": 9.207814298845243,
          "fwhm_deg": 0.15346357164742072,
          "index": 79
         },
         {
          "bandcenter_ghz": 90.19314462634617,
          "bandwidth_ghz": 22.498393231471873,
          "fwhm_arcmin": 8.944922322845045,
          "fwhm_deg": 0.14908203871408407,
          "index": 80
         },
         {
          "bandcenter_ghz": 88.63037812216002,
          "bandwidth_ghz": 22.608281867942534,
          "fwhm_arcmin": 9.674295772914057,
          "fwhm_deg": 0.16123826288190096,
          "index": 81
         },
         {
          "bandcenter_ghz": 88.6643405961196,
          "bandwidth_ghz": 22.552197607678472,
          "fwhm_arcmin": 9.458243247965408,
          "fwhm_deg": 0.15763738746609013,
          "index": 82
         },
         {
          "bandcenter_ghz": 89.2020304355366,
          "bandwidth_ghz": 22.806661332614766,
          "fwhm_arcmin": 9.80134611159097,
          "fwhm_deg": 0.16335576852651618,
          "index": 83
         },
         {
          "bandcenter_ghz": 90.81015248745315,
          "bandwidth_ghz": 21.737594549034693,
          "fwhm_arcmin": 9.628285722256365,
          "fwhm_deg": 0.16047142870427275,
          "index": 84
         },
         {
          "bandcenter_ghz": 91.06337927301733,
          "bandwidth_ghz": 21.850072866826743,
          "fwhm_arcmin": 9.545323769507867,
          "fwhm_deg": 0.15908872949179778,
          "index": 85
         },
         {
          "bandcenter_ghz": 88.50435477034837,
          "bandwidth_ghz": 22.27312706246446,
          "fwhm_arcmin": 9.24450299579426,
          "fwhm_deg": 0.15407504992990434,
          "index": 86
         },
         {
          "bandcenter_ghz": 89.4300603321695,
          "bandwidth_ghz": 22.55378942907313,
          "fwhm_arcmin": 9.581831600333087,
          "fwhm_deg": 0.1596971933388848,
          "index": 87
         },
         {
          "bandcenter_ghz": 88.6089880498783,
          "bandwidth_ghz": 21.88879754278556,
          "fwhm_arcmin": 9.925306579647476,
          "fwhm_deg": 0.16542177632745791,
          "index": 88
         },
         {
          "bandcenter_ghz": 91.68483456244572,
          "bandwidth_ghz": 22.408680607198587,
          "fwhm_arcmin": 9.385420963653731,
          "fwhm_deg": 0.15642368272756219,
          "index": 89
         },
         {
          "bandcenter_ghz": 87.97263630214083,
          "bandwidth_ghz": 23.08681492979988,
          "fwhm_arcmin": 9.469654207255019,
          "fwhm_deg": 0.15782757012091697,
          "index": 90
         },
         {
          "bandcenter_ghz": 89.45558277086595,
          "bandwidth_ghz": 22.432221655375056,
          "fwhm_arcmin": 9.348758810792514,
          "fwhm_deg": 0.1558126468465419,
          "index": 91
         },
         {
          "bandcenter_ghz": 90.80510954623176,
          "bandwidth_ghz": 22.45659557295196,
          "fwhm_arcmin": 9.51988119512903,
          "fwhm_deg": 0.15866468658548383,
          "index": 92
         },
         {
          "bandcenter_ghz": 89.50188907202008,
          "bandwidth_ghz": 22.273212016799125,
          "fwhm_arcmin": 9.219692097163067,
          "fwhm_deg": 0.15366153495271778,
          "index": 93
         },
         {
          "bandcenter_ghz": 89.65607113681412,
          "bandwidth_ghz": 22.522692046994052,
          "fwhm_arcmin": 9.455540307781215,
          "fwhm_deg": 0.15759233846302026,
          "index": 94
         },
         {
          "bandcenter_ghz": 91.36252159794493,
          "bandwidth_ghz": 22.76219407282407,
          "fwhm_arcmin": 9.148619753282764,
          "fwhm_deg": 0.15247699588804606,
          "index": 95
         },
         {
          "bandcenter_ghz": 89.3658375317145,
          "bandwidth_ghz": 23.106362345415288,
          "fwhm_arcmin": 9.48243371138322,
          "fwhm_deg": 0.15804056185638699,
          "index": 96
         },
         {
          "bandcenter_ghz": 88.03602900267153,
          "bandwidth_ghz": 22.540915876897422,
          "fwhm_arcmin": 10.039327371766094,
          "fwhm_deg": 0.16732212286276824,
          "index": 97
         },
         {
          "bandcenter_ghz": 89.97585051494998,
          "bandwidth_ghz": 22.377365126454727,
          "fwhm_arcmin": 9.287339785581668,
          "fwhm_deg": 0.15478899642636115,
          "index": 98
         },
         {
          "bandcenter_ghz": 90.30435336640161,
          "bandwidth_ghz": 22.490884790809222,
          "fwhm_arcmin": 8.959193255461845,
          "fwhm_deg": 0.14931988759103074,
          "index": 99
         },
         {
          "bandcenter_ghz": 88.4527923005089,
          "bandwidth_ghz": 22.79928865779956,
          "fwhm_arcmin": 9.367331160248732,
          "fwhm_deg": 0.1561221860041455,
          "index": 100
         },
         {
          "bandcenter_ghz": 90.47990872870304,
          "bandwidth_ghz": 21.540599244844966,
          "fwhm_arcmin": 9.541936355293219,
          "fwhm_deg": 0.1590322725882203,
          "index": 101
         },
         {
          "bandcenter_ghz": 90.23532879488765,
          "bandwidth_ghz": 22.632874785248006,
          "fwhm_arcmin": 9.739035445630698,
          "fwhm_deg": 0.1623172574271783,
          "index": 102
         },
         {
          "bandcenter_ghz": 89.15184760081459,
          "bandwidth_ghz": 21.782698937980662,
          "fwhm_arcmin": 9.087745802878532,
          "fwhm_deg": 0.15146243004797552,
          "index": 103
         },
         {
          "bandcenter_ghz": 89.86872608329182,
          "bandwidth_ghz": 21.526364158725052,
          "fwhm_arcmin": 9.104708308416729,
          "fwhm_deg": 0.15174513847361215,
          "index": 104
         },
         {
          "bandcenter_ghz": 89.77018215504744,
          "bandwidth_ghz": 21.82885622520978,
          "fwhm_arcmin": 10.025165766437247,
          "fwhm_deg": 0.16708609610728745,
          "index": 105
         },
         {
          "bandcenter_ghz": 88.000768843141,
          "bandwidth_ghz": 22.502916319561773,
          "fwhm_arcmin": 9.230836691982242,
          "fwhm_deg": 0.15384727819970404,
          "index": 106
         },
         {
          "bandcenter_ghz": 89.42710609059122,
          "bandwidth_ghz": 23.29737216644918,
          "fwhm_arcmin": 9.884302244233838,
          "fwhm_deg": 0.16473837073723063,
          "index": 107
         },
         {
          "bandcenter_ghz": 88.90539677144174,
          "bandwidth_ghz": 21.80999365646949,
          "fwhm_arcmin": 9.86335471443436,
          "fwhm_deg": 0.16438924524057266,
          "index": 108
         },
         {
          "bandcenter_ghz": 88.34023213634892,
          "bandwidth_ghz": 22.695962130015673,
          "fwhm_arcmin": 9.431805619314613,
          "fwhm_deg": 0.1571967603219102,
          "index": 109
         },
         {
          "bandcenter_ghz": 88.34571213459967,
          "bandwidth_ghz": 23.07743134026308,
          "fwhm_arcmin": 9.306701005081306,
          "fwhm_deg": 0.15511168341802178,
          "index": 110
         },
         {
          "bandcenter_ghz": 88.22056315796327,
          "bandwidth_ghz": 22.172417817093304,
          "fwhm_arcmin": 9.365863473767996,
          "fwhm_deg": 0.15609772456279994,
          "index": 111
         },
         {
          "bandcenter_ghz": 90.21353073743413,
          "bandwidth_ghz": 22.971677849694377,
          "fwhm_arcmin": 8.791509431999195,
          "fwhm_deg": 0.1465251571999866,
          "index": 112
         },
         {
          "bandcenter_ghz": 90.11823671098973,
          "bandwidth_ghz": 22.020095957641395,
          "fwhm_arcmin": 9.636609065922,
          "fwhm_deg": 0.1606101510987,
          "index": 113
         },
         {
          "bandcenter_ghz": 91.01640967707898,
          "bandwidth_ghz": 22.72709369437436,
          "fwhm_arcmin": 9.418526617396306,
          "fwhm_deg": 0.1569754436232718,
          "index": 114
         },
         {
          "bandcenter_ghz": 90.7181227054358,
          "bandwidth_ghz": 22.359563462481013,
          "fwhm_arcmin": 9.406810613785881,
          "fwhm_deg": 0.15678017689643134,
          "index": 115
         },
         {
          "bandcenter_ghz": 89.34933443447655,
          "bandwidth_ghz": 22.641361994075986,
          "fwhm_arcmin": 9.05504340615153,
          "fwhm_deg": 0.1509173901025255,
          "index": 116
         },
         {
          "bandcenter_ghz": 90.55211479556891,
          "bandwidth_ghz": 22.513426926808183,
          "fwhm_arcmin": 9.586725974132229,
          "fwhm_deg": 0.15977876623553713,
          "index": 117
         },
         {
          "bandcenter_ghz": 88.04132783261701,
          "bandwidth_ghz": 21.728177628640733,
          "fwhm_arcmin": 9.246976441113922,
          "fwhm_deg": 0.15411627401856537,
          "index": 118
         },
         {
          "bandcenter_ghz": 88.67246497776925,
          "bandwidth_ghz": 22.59635716933519,
          "fwhm_arcmin": 9.374729139092706,
          "fwhm_deg": 0.15624548565154509,
          "index": 119
         },
         {
          "bandcenter_ghz": 89.45388294605597,
          "bandwidth_ghz": 22.398286201044243,
          "fwhm_arcmin": 9.927841279005927,
          "fwhm_deg": 0.16546402131676544,
          "index": 120
         },
         {
          "bandcenter_ghz": 88.88951165954265,
          "bandwidth_ghz": 22.01493773413285,
          "fwhm_arcmin": 10.002470591668915,
          "fwhm_deg": 0.16670784319448193,
          "index": 121
         }
        ]
       },
       "layer": [
        {
         "data": {
          "name": "data-4fc8b6ad00ead143f7f729ffa85837da"
         },
         "encoding": {
          "x": {
           "axis": null,
           "bin": {
            "maxbins": 50
           },
           "field": "fwhm_arcmin",
           "type": "quantitative"
          },
          "y": {
           "aggregate": "count",
           "type": "quantitative"
          }
         },
         "mark": "bar"
        },
        {
         "data": {
          "name": "data-4fc8b6ad00ead143f7f729ffa85837da"
         },
         "encoding": {
          "size": {
           "value": 3
          },
          "x": {
           "aggregate": "mean",
           "field": "fwhm_arcmin",
           "type": "quantitative"
          }
         },
         "mark": {
          "color": "red",
          "type": "rule"
         }
        }
       ]
      },
      "image/png": "[encoded data removed]",
      "text/plain": [
       "<VegaLite 2 object>\n",
       "\n",
       "If you see this message, it means the renderer has not been properly enabled\n",
       "for the frontend that you are using. For more information, see\n",
       "https://altair-viz.github.io/user_guide/troubleshooting.html\n"
      ]
     },
     "execution_count": 28,
     "metadata": {},
     "output_type": "execute_result"
    }
   ],
   "source": [
    "bar = alt.Chart(a).mark_bar().encode(x=alt.X(\"fwhm_arcmin:Q\", bin=alt.Bin(maxbins=50), axis=None),\n",
    "    y='count()')\n",
    "\n",
    "rule = alt.Chart(a).mark_rule(color='red').encode(\n",
    "    x='mean(fwhm_arcmin):Q',\n",
    "    size=alt.value(3)\n",
    ")\n",
    "\n",
    "bar + rule"
   ]
  },
  {
   "cell_type": "code",
   "execution_count": 29,
   "metadata": {},
   "outputs": [
    {
     "data": {
      "application/vnd.vegalite.v2+json": {
       "$schema": "https://vega.github.io/schema/vega-lite/v2.6.0.json",
       "config": {
        "view": {
         "height": 300,
         "width": 400
        }
       },
       "datasets": {
        "data-4fc8b6ad00ead143f7f729ffa85837da": [
         {
          "bandcenter_ghz": 90.71265546906,
          "bandwidth_ghz": 21.63712115890996,
          "fwhm_arcmin": 9.477997810619138,
          "fwhm_deg": 0.15796663017698565,
          "index": 0
         },
         {
          "bandcenter_ghz": 89.16799522717268,
          "bandwidth_ghz": 21.828557599749395,
          "fwhm_arcmin": 9.490876966863858,
          "fwhm_deg": 0.1581812827810643,
          "index": 1
         },
         {
          "bandcenter_ghz": 88.53444689287453,
          "bandwidth_ghz": 22.968046879652974,
          "fwhm_arcmin": 9.879223139860203,
          "fwhm_deg": 0.16465371899767006,
          "index": 2
         },
         {
          "bandcenter_ghz": 90.57514846782985,
          "bandwidth_ghz": 22.402304846955488,
          "fwhm_arcmin": 9.35492728765808,
          "fwhm_deg": 0.15591545479430133,
          "index": 3
         },
         {
          "bandcenter_ghz": 89.26549564144638,
          "bandwidth_ghz": 22.97656426039775,
          "fwhm_arcmin": 9.667323289081594,
          "fwhm_deg": 0.16112205481802658,
          "index": 4
         },
         {
          "bandcenter_ghz": 87.84123055619483,
          "bandwidth_ghz": 22.175213454769214,
          "fwhm_arcmin": 9.615043012231544,
          "fwhm_deg": 0.16025071687052572,
          "index": 5
         },
         {
          "bandcenter_ghz": 92.06338354618808,
          "bandwidth_ghz": 21.893691103724194,
          "fwhm_arcmin": 9.229110345641514,
          "fwhm_deg": 0.1538185057606919,
          "index": 6
         },
         {
          "bandcenter_ghz": 88.73764286905859,
          "bandwidth_ghz": 22.165078566053474,
          "fwhm_arcmin": 9.607397990016972,
          "fwhm_deg": 0.1601232998336162,
          "index": 7
         },
         {
          "bandcenter_ghz": 90.23451324378051,
          "bandwidth_ghz": 22.630186814660348,
          "fwhm_arcmin": 9.993341583424291,
          "fwhm_deg": 0.16655569305707152,
          "index": 8
         },
         {
          "bandcenter_ghz": 88.92828491978065,
          "bandwidth_ghz": 21.455877009546153,
          "fwhm_arcmin": 9.924941539372853,
          "fwhm_deg": 0.16541569232288086,
          "index": 9
         },
         {
          "bandcenter_ghz": 89.2799282731399,
          "bandwidth_ghz": 22.695121720898683,
          "fwhm_arcmin": 9.733626939632718,
          "fwhm_deg": 0.1622271156605453,
          "index": 10
         },
         {
          "bandcenter_ghz": 88.55480889367674,
          "bandwidth_ghz": 22.686829328900163,
          "fwhm_arcmin": 9.842585904164018,
          "fwhm_deg": 0.16404309840273362,
          "index": 11
         },
         {
          "bandcenter_ghz": 89.4631030294094,
          "bandwidth_ghz": 23.030721707047885,
          "fwhm_arcmin": 9.858229811927245,
          "fwhm_deg": 0.16430383019878742,
          "index": 12
         },
         {
          "bandcenter_ghz": 90.16258108209293,
          "bandwidth_ghz": 23.124108807590595,
          "fwhm_arcmin": 9.306505958504653,
          "fwhm_deg": 0.1551084326417442,
          "index": 13
         },
         {
          "bandcenter_ghz": 90.24540970007276,
          "bandwidth_ghz": 22.123789485518397,
          "fwhm_arcmin": 9.761259043437116,
          "fwhm_deg": 0.16268765072395194,
          "index": 14
         },
         {
          "bandcenter_ghz": 88.84146475862475,
          "bandwidth_ghz": 21.701578496583483,
          "fwhm_arcmin": 9.266898634298464,
          "fwhm_deg": 0.15444831057164107,
          "index": 15
         },
         {
          "bandcenter_ghz": 88.88464911039364,
          "bandwidth_ghz": 22.389085982358896,
          "fwhm_arcmin": 9.407387764670766,
          "fwhm_deg": 0.1567897960778461,
          "index": 16
         },
         {
          "bandcenter_ghz": 89.78677104992158,
          "bandwidth_ghz": 22.664199315006616,
          "fwhm_arcmin": 9.381743348783976,
          "fwhm_deg": 0.1563623891463996,
          "index": 17
         },
         {
          "bandcenter_ghz": 91.1791264279274,
          "bandwidth_ghz": 22.172275123491247,
          "fwhm_arcmin": 9.097411357942745,
          "fwhm_deg": 0.15162352263237908,
          "index": 18
         },
         {
          "bandcenter_ghz": 90.13395122403718,
          "bandwidth_ghz": 23.20221473235367,
          "fwhm_arcmin": 9.81688997894032,
          "fwhm_deg": 0.16361483298233867,
          "index": 19
         },
         {
          "bandcenter_ghz": 89.04211570663045,
          "bandwidth_ghz": 22.252389939709953,
          "fwhm_arcmin": 9.367392753206056,
          "fwhm_deg": 0.15612321255343428,
          "index": 20
         },
         {
          "bandcenter_ghz": 89.3041135808461,
          "bandwidth_ghz": 22.448538693498737,
          "fwhm_arcmin": 9.873972973851297,
          "fwhm_deg": 0.16456621623085493,
          "index": 21
         },
         {
          "bandcenter_ghz": 90.04819062891413,
          "bandwidth_ghz": 22.244705828461218,
          "fwhm_arcmin": 9.210193192480261,
          "fwhm_deg": 0.15350321987467103,
          "index": 22
         },
         {
          "bandcenter_ghz": 90.32874173501968,
          "bandwidth_ghz": 22.391945887201626,
          "fwhm_arcmin": 9.294246842622323,
          "fwhm_deg": 0.15490411404370538,
          "index": 23
         },
         {
          "bandcenter_ghz": 90.65881504449608,
          "bandwidth_ghz": 22.34146235426067,
          "fwhm_arcmin": 9.447267547633068,
          "fwhm_deg": 0.1574544591272178,
          "index": 24
         },
         {
          "bandcenter_ghz": 89.9775946702926,
          "bandwidth_ghz": 21.704466948876377,
          "fwhm_arcmin": 8.593534614067313,
          "fwhm_deg": 0.14322557690112186,
          "index": 25
         },
         {
          "bandcenter_ghz": 91.36021727869114,
          "bandwidth_ghz": 22.159873885914635,
          "fwhm_arcmin": 9.698322965167472,
          "fwhm_deg": 0.16163871608612454,
          "index": 26
         },
         {
          "bandcenter_ghz": 87.8098466016035,
          "bandwidth_ghz": 22.594413170450505,
          "fwhm_arcmin": 9.304302820361546,
          "fwhm_deg": 0.15507171367269243,
          "index": 27
         },
         {
          "bandcenter_ghz": 89.10066193839452,
          "bandwidth_ghz": 23.109289591326323,
          "fwhm_arcmin": 9.634240723971779,
          "fwhm_deg": 0.160570678732863,
          "index": 28
         },
         {
          "bandcenter_ghz": 91.3859024395774,
          "bandwidth_ghz": 22.149520431076002,
          "fwhm_arcmin": 9.287468967737745,
          "fwhm_deg": 0.15479114946229575,
          "index": 29
         },
         {
          "bandcenter_ghz": 88.03677999820746,
          "bandwidth_ghz": 22.470691351248416,
          "fwhm_arcmin": 9.817278085025197,
          "fwhm_deg": 0.16362130141708664,
          "index": 30
         },
         {
          "bandcenter_ghz": 90.156782542871,
          "bandwidth_ghz": 22.519555510375977,
          "fwhm_arcmin": 9.60463022273763,
          "fwhm_deg": 0.1600771703789605,
          "index": 31
         },
         {
          "bandcenter_ghz": 89.44169821247381,
          "bandwidth_ghz": 22.152569952542606,
          "fwhm_arcmin": 10.01049874240258,
          "fwhm_deg": 0.16684164570670967,
          "index": 32
         },
         {
          "bandcenter_ghz": 87.6043686035357,
          "bandwidth_ghz": 22.711902702353434,
          "fwhm_arcmin": 9.498585855840165,
          "fwhm_deg": 0.15830976426400276,
          "index": 33
         },
         {
          "bandcenter_ghz": 89.19695866667156,
          "bandwidth_ghz": 22.813006721112053,
          "fwhm_arcmin": 9.263455866800392,
          "fwhm_deg": 0.15439093111333987,
          "index": 34
         },
         {
          "bandcenter_ghz": 89.96033415865439,
          "bandwidth_ghz": 22.64856082361576,
          "fwhm_arcmin": 9.396715174098937,
          "fwhm_deg": 0.1566119195683156,
          "index": 35
         },
         {
          "bandcenter_ghz": 88.26598978515665,
          "bandwidth_ghz": 22.106066366155396,
          "fwhm_arcmin": 9.749397788721707,
          "fwhm_deg": 0.16248996314536177,
          "index": 36
         },
         {
          "bandcenter_ghz": 88.30295988280523,
          "bandwidth_ghz": 22.43418140859185,
          "fwhm_arcmin": 9.387466797645667,
          "fwhm_deg": 0.1564577799607611,
          "index": 37
         },
         {
          "bandcenter_ghz": 88.69332302611475,
          "bandwidth_ghz": 22.48090403511241,
          "fwhm_arcmin": 9.970690963228295,
          "fwhm_deg": 0.16617818272047158,
          "index": 38
         },
         {
          "bandcenter_ghz": 89.49412299717793,
          "bandwidth_ghz": 22.617651003296444,
          "fwhm_arcmin": 9.584488979653328,
          "fwhm_deg": 0.15974148299422214,
          "index": 39
         },
         {
          "bandcenter_ghz": 88.23628231784666,
          "bandwidth_ghz": 22.825816654080114,
          "fwhm_arcmin": 9.293293028065161,
          "fwhm_deg": 0.15488821713441936,
          "index": 40
         },
         {
          "bandcenter_ghz": 89.83651640593256,
          "bandwidth_ghz": 22.65270633988077,
          "fwhm_arcmin": 9.55944938419674,
          "fwhm_deg": 0.159324156403279,
          "index": 41
         },
         {
          "bandcenter_ghz": 89.82593234107227,
          "bandwidth_ghz": 23.34225627843627,
          "fwhm_arcmin": 9.249875328354818,
          "fwhm_deg": 0.15416458880591363,
          "index": 42
         },
         {
          "bandcenter_ghz": 89.85162823358047,
          "bandwidth_ghz": 22.680811825144087,
          "fwhm_arcmin": 9.246935972183039,
          "fwhm_deg": 0.15411559953638398,
          "index": 43
         },
         {
          "bandcenter_ghz": 89.78097754363401,
          "bandwidth_ghz": 22.495706548340063,
          "fwhm_arcmin": 9.005955132630469,
          "fwhm_deg": 0.1500992522105078,
          "index": 44
         },
         {
          "bandcenter_ghz": 89.37882470037685,
          "bandwidth_ghz": 22.884702067159864,
          "fwhm_arcmin": 9.912128731799392,
          "fwhm_deg": 0.16520214552998985,
          "index": 45
         },
         {
          "bandcenter_ghz": 88.98354468688373,
          "bandwidth_ghz": 22.38377587028183,
          "fwhm_arcmin": 9.43318253593079,
          "fwhm_deg": 0.15721970893217985,
          "index": 46
         },
         {
          "bandcenter_ghz": 90.60049912558456,
          "bandwidth_ghz": 21.72263940237255,
          "fwhm_arcmin": 9.636499390003836,
          "fwhm_deg": 0.1606083231667306,
          "index": 47
         },
         {
          "bandcenter_ghz": 88.04003937736712,
          "bandwidth_ghz": 21.451507324141627,
          "fwhm_arcmin": 9.567592003599398,
          "fwhm_deg": 0.15945986672665663,
          "index": 48
         },
         {
          "bandcenter_ghz": 89.24138505872033,
          "bandwidth_ghz": 22.334596319774672,
          "fwhm_arcmin": 9.658567351856059,
          "fwhm_deg": 0.16097612253093432,
          "index": 49
         },
         {
          "bandcenter_ghz": 89.8023715395138,
          "bandwidth_ghz": 22.878833135329188,
          "fwhm_arcmin": 9.116455688622695,
          "fwhm_deg": 0.15194092814371157,
          "index": 50
         },
         {
          "bandcenter_ghz": 89.05319635216776,
          "bandwidth_ghz": 22.09807952435475,
          "fwhm_arcmin": 9.66431366835237,
          "fwhm_deg": 0.1610718944725395,
          "index": 51
         },
         {
          "bandcenter_ghz": 90.21837079599239,
          "bandwidth_ghz": 23.293996602136065,
          "fwhm_arcmin": 9.225527303971816,
          "fwhm_deg": 0.15375878839953028,
          "index": 52
         },
         {
          "bandcenter_ghz": 88.47169622331266,
          "bandwidth_ghz": 21.623541775795182,
          "fwhm_arcmin": 8.819500481382036,
          "fwhm_deg": 0.1469916746897006,
          "index": 53
         },
         {
          "bandcenter_ghz": 90.635430717655,
          "bandwidth_ghz": 23.078528988081402,
          "fwhm_arcmin": 9.665492453174544,
          "fwhm_deg": 0.1610915408862424,
          "index": 54
         },
         {
          "bandcenter_ghz": 90.06100617229262,
          "bandwidth_ghz": 22.476748671480514,
          "fwhm_arcmin": 9.920505402871337,
          "fwhm_deg": 0.16534175671452228,
          "index": 55
         },
         {
          "bandcenter_ghz": 89.04257701473968,
          "bandwidth_ghz": 22.712151049195146,
          "fwhm_arcmin": 9.420779357459825,
          "fwhm_deg": 0.15701298929099708,
          "index": 56
         },
         {
          "bandcenter_ghz": 89.33364813187906,
          "bandwidth_ghz": 22.866479270250313,
          "fwhm_arcmin": 9.650005480297036,
          "fwhm_deg": 0.16083342467161726,
          "index": 57
         },
         {
          "bandcenter_ghz": 88.91556061514062,
          "bandwidth_ghz": 22.416216447106073,
          "fwhm_arcmin": 9.273862446087717,
          "fwhm_deg": 0.15456437410146195,
          "index": 58
         },
         {
          "bandcenter_ghz": 88.86746430695925,
          "bandwidth_ghz": 21.476461740227972,
          "fwhm_arcmin": 9.19446453654334,
          "fwhm_deg": 0.15324107560905567,
          "index": 59
         },
         {
          "bandcenter_ghz": 90.22783357547493,
          "bandwidth_ghz": 21.248221909806283,
          "fwhm_arcmin": 9.476683993945379,
          "fwhm_deg": 0.15794473323242297,
          "index": 60
         },
         {
          "bandcenter_ghz": 86.89852076992003,
          "bandwidth_ghz": 22.391476579426755,
          "fwhm_arcmin": 9.045633114052974,
          "fwhm_deg": 0.1507605519008829,
          "index": 61
         },
         {
          "bandcenter_ghz": 88.42600544303565,
          "bandwidth_ghz": 22.26686479306175,
          "fwhm_arcmin": 8.967965410305354,
          "fwhm_deg": 0.14946609017175588,
          "index": 62
         },
         {
          "bandcenter_ghz": 89.60687152535436,
          "bandwidth_ghz": 21.81211553150533,
          "fwhm_arcmin": 9.786573162110534,
          "fwhm_deg": 0.16310955270184221,
          "index": 63
         },
         {
          "bandcenter_ghz": 89.23257244142944,
          "bandwidth_ghz": 22.6255311029723,
          "fwhm_arcmin": 9.553719906745947,
          "fwhm_deg": 0.15922866511243244,
          "index": 64
         },
         {
          "bandcenter_ghz": 89.18527039481089,
          "bandwidth_ghz": 22.057875012962764,
          "fwhm_arcmin": 9.51537755178019,
          "fwhm_deg": 0.15858962586300318,
          "index": 65
         },
         {
          "bandcenter_ghz": 88.99298911183374,
          "bandwidth_ghz": 22.70050120338989,
          "fwhm_arcmin": 9.551706194543613,
          "fwhm_deg": 0.15919510324239355,
          "index": 66
         },
         {
          "bandcenter_ghz": 89.5176607609678,
          "bandwidth_ghz": 22.222923645865997,
          "fwhm_arcmin": 9.579188479155887,
          "fwhm_deg": 0.15965314131926478,
          "index": 67
         },
         {
          "bandcenter_ghz": 89.92372037832588,
          "bandwidth_ghz": 22.530735211324885,
          "fwhm_arcmin": 9.584319430864193,
          "fwhm_deg": 0.1597386571810699,
          "index": 68
         },
         {
          "bandcenter_ghz": 88.79311482520278,
          "bandwidth_ghz": 22.403171481754548,
          "fwhm_arcmin": 9.414087266421456,
          "fwhm_deg": 0.1569014544403576,
          "index": 69
         },
         {
          "bandcenter_ghz": 88.90654829124776,
          "bandwidth_ghz": 22.08327969500864,
          "fwhm_arcmin": 9.620413439026915,
          "fwhm_deg": 0.16034022398378192,
          "index": 70
         },
         {
          "bandcenter_ghz": 89.2525428371464,
          "bandwidth_ghz": 22.407661045045778,
          "fwhm_arcmin": 8.892127454792188,
          "fwhm_deg": 0.14820212424653648,
          "index": 71
         },
         {
          "bandcenter_ghz": 88.0738889838548,
          "bandwidth_ghz": 22.298350748216215,
          "fwhm_arcmin": 9.275443816411174,
          "fwhm_deg": 0.15459073027351958,
          "index": 72
         },
         {
          "bandcenter_ghz": 88.83336811248233,
          "bandwidth_ghz": 22.714464407738934,
          "fwhm_arcmin": 9.733036678291061,
          "fwhm_deg": 0.1622172779715177,
          "index": 73
         },
         {
          "bandcenter_ghz": 89.75488793255992,
          "bandwidth_ghz": 23.32912015004215,
          "fwhm_arcmin": 9.531076467631099,
          "fwhm_deg": 0.1588512744605183,
          "index": 74
         },
         {
          "bandcenter_ghz": 89.89616294602884,
          "bandwidth_ghz": 22.77634773518361,
          "fwhm_arcmin": 9.607100606320012,
          "fwhm_deg": 0.16011834343866688,
          "index": 75
         },
         {
          "bandcenter_ghz": 89.64991729228993,
          "bandwidth_ghz": 21.47235719948196,
          "fwhm_arcmin": 9.368114992292432,
          "fwhm_deg": 0.15613524987154054,
          "index": 76
         },
         {
          "bandcenter_ghz": 90.00191754267397,
          "bandwidth_ghz": 22.29048171536252,
          "fwhm_arcmin": 9.673502072073326,
          "fwhm_deg": 0.16122503453455544,
          "index": 77
         },
         {
          "bandcenter_ghz": 88.51443454165292,
          "bandwidth_ghz": 23.150817009677514,
          "fwhm_arcmin": 9.613929176349398,
          "fwhm_deg": 0.16023215293915663,
          "index": 78
         },
         {
          "bandcenter_ghz": 89.11225253212594,
          "bandwidth_ghz": 22.332881783862003,
          "fwhm_arcmin": 9.207814298845243,
          "fwhm_deg": 0.15346357164742072,
          "index": 79
         },
         {
          "bandcenter_ghz": 90.19314462634617,
          "bandwidth_ghz": 22.498393231471873,
          "fwhm_arcmin": 8.944922322845045,
          "fwhm_deg": 0.14908203871408407,
          "index": 80
         },
         {
          "bandcenter_ghz": 88.63037812216002,
          "bandwidth_ghz": 22.608281867942534,
          "fwhm_arcmin": 9.674295772914057,
          "fwhm_deg": 0.16123826288190096,
          "index": 81
         },
         {
          "bandcenter_ghz": 88.6643405961196,
          "bandwidth_ghz": 22.552197607678472,
          "fwhm_arcmin": 9.458243247965408,
          "fwhm_deg": 0.15763738746609013,
          "index": 82
         },
         {
          "bandcenter_ghz": 89.2020304355366,
          "bandwidth_ghz": 22.806661332614766,
          "fwhm_arcmin": 9.80134611159097,
          "fwhm_deg": 0.16335576852651618,
          "index": 83
         },
         {
          "bandcenter_ghz": 90.81015248745315,
          "bandwidth_ghz": 21.737594549034693,
          "fwhm_arcmin": 9.628285722256365,
          "fwhm_deg": 0.16047142870427275,
          "index": 84
         },
         {
          "bandcenter_ghz": 91.06337927301733,
          "bandwidth_ghz": 21.850072866826743,
          "fwhm_arcmin": 9.545323769507867,
          "fwhm_deg": 0.15908872949179778,
          "index": 85
         },
         {
          "bandcenter_ghz": 88.50435477034837,
          "bandwidth_ghz": 22.27312706246446,
          "fwhm_arcmin": 9.24450299579426,
          "fwhm_deg": 0.15407504992990434,
          "index": 86
         },
         {
          "bandcenter_ghz": 89.4300603321695,
          "bandwidth_ghz": 22.55378942907313,
          "fwhm_arcmin": 9.581831600333087,
          "fwhm_deg": 0.1596971933388848,
          "index": 87
         },
         {
          "bandcenter_ghz": 88.6089880498783,
          "bandwidth_ghz": 21.88879754278556,
          "fwhm_arcmin": 9.925306579647476,
          "fwhm_deg": 0.16542177632745791,
          "index": 88
         },
         {
          "bandcenter_ghz": 91.68483456244572,
          "bandwidth_ghz": 22.408680607198587,
          "fwhm_arcmin": 9.385420963653731,
          "fwhm_deg": 0.15642368272756219,
          "index": 89
         },
         {
          "bandcenter_ghz": 87.97263630214083,
          "bandwidth_ghz": 23.08681492979988,
          "fwhm_arcmin": 9.469654207255019,
          "fwhm_deg": 0.15782757012091697,
          "index": 90
         },
         {
          "bandcenter_ghz": 89.45558277086595,
          "bandwidth_ghz": 22.432221655375056,
          "fwhm_arcmin": 9.348758810792514,
          "fwhm_deg": 0.1558126468465419,
          "index": 91
         },
         {
          "bandcenter_ghz": 90.80510954623176,
          "bandwidth_ghz": 22.45659557295196,
          "fwhm_arcmin": 9.51988119512903,
          "fwhm_deg": 0.15866468658548383,
          "index": 92
         },
         {
          "bandcenter_ghz": 89.50188907202008,
          "bandwidth_ghz": 22.273212016799125,
          "fwhm_arcmin": 9.219692097163067,
          "fwhm_deg": 0.15366153495271778,
          "index": 93
         },
         {
          "bandcenter_ghz": 89.65607113681412,
          "bandwidth_ghz": 22.522692046994052,
          "fwhm_arcmin": 9.455540307781215,
          "fwhm_deg": 0.15759233846302026,
          "index": 94
         },
         {
          "bandcenter_ghz": 91.36252159794493,
          "bandwidth_ghz": 22.76219407282407,
          "fwhm_arcmin": 9.148619753282764,
          "fwhm_deg": 0.15247699588804606,
          "index": 95
         },
         {
          "bandcenter_ghz": 89.3658375317145,
          "bandwidth_ghz": 23.106362345415288,
          "fwhm_arcmin": 9.48243371138322,
          "fwhm_deg": 0.15804056185638699,
          "index": 96
         },
         {
          "bandcenter_ghz": 88.03602900267153,
          "bandwidth_ghz": 22.540915876897422,
          "fwhm_arcmin": 10.039327371766094,
          "fwhm_deg": 0.16732212286276824,
          "index": 97
         },
         {
          "bandcenter_ghz": 89.97585051494998,
          "bandwidth_ghz": 22.377365126454727,
          "fwhm_arcmin": 9.287339785581668,
          "fwhm_deg": 0.15478899642636115,
          "index": 98
         },
         {
          "bandcenter_ghz": 90.30435336640161,
          "bandwidth_ghz": 22.490884790809222,
          "fwhm_arcmin": 8.959193255461845,
          "fwhm_deg": 0.14931988759103074,
          "index": 99
         },
         {
          "bandcenter_ghz": 88.4527923005089,
          "bandwidth_ghz": 22.79928865779956,
          "fwhm_arcmin": 9.367331160248732,
          "fwhm_deg": 0.1561221860041455,
          "index": 100
         },
         {
          "bandcenter_ghz": 90.47990872870304,
          "bandwidth_ghz": 21.540599244844966,
          "fwhm_arcmin": 9.541936355293219,
          "fwhm_deg": 0.1590322725882203,
          "index": 101
         },
         {
          "bandcenter_ghz": 90.23532879488765,
          "bandwidth_ghz": 22.632874785248006,
          "fwhm_arcmin": 9.739035445630698,
          "fwhm_deg": 0.1623172574271783,
          "index": 102
         },
         {
          "bandcenter_ghz": 89.15184760081459,
          "bandwidth_ghz": 21.782698937980662,
          "fwhm_arcmin": 9.087745802878532,
          "fwhm_deg": 0.15146243004797552,
          "index": 103
         },
         {
          "bandcenter_ghz": 89.86872608329182,
          "bandwidth_ghz": 21.526364158725052,
          "fwhm_arcmin": 9.104708308416729,
          "fwhm_deg": 0.15174513847361215,
          "index": 104
         },
         {
          "bandcenter_ghz": 89.77018215504744,
          "bandwidth_ghz": 21.82885622520978,
          "fwhm_arcmin": 10.025165766437247,
          "fwhm_deg": 0.16708609610728745,
          "index": 105
         },
         {
          "bandcenter_ghz": 88.000768843141,
          "bandwidth_ghz": 22.502916319561773,
          "fwhm_arcmin": 9.230836691982242,
          "fwhm_deg": 0.15384727819970404,
          "index": 106
         },
         {
          "bandcenter_ghz": 89.42710609059122,
          "bandwidth_ghz": 23.29737216644918,
          "fwhm_arcmin": 9.884302244233838,
          "fwhm_deg": 0.16473837073723063,
          "index": 107
         },
         {
          "bandcenter_ghz": 88.90539677144174,
          "bandwidth_ghz": 21.80999365646949,
          "fwhm_arcmin": 9.86335471443436,
          "fwhm_deg": 0.16438924524057266,
          "index": 108
         },
         {
          "bandcenter_ghz": 88.34023213634892,
          "bandwidth_ghz": 22.695962130015673,
          "fwhm_arcmin": 9.431805619314613,
          "fwhm_deg": 0.1571967603219102,
          "index": 109
         },
         {
          "bandcenter_ghz": 88.34571213459967,
          "bandwidth_ghz": 23.07743134026308,
          "fwhm_arcmin": 9.306701005081306,
          "fwhm_deg": 0.15511168341802178,
          "index": 110
         },
         {
          "bandcenter_ghz": 88.22056315796327,
          "bandwidth_ghz": 22.172417817093304,
          "fwhm_arcmin": 9.365863473767996,
          "fwhm_deg": 0.15609772456279994,
          "index": 111
         },
         {
          "bandcenter_ghz": 90.21353073743413,
          "bandwidth_ghz": 22.971677849694377,
          "fwhm_arcmin": 8.791509431999195,
          "fwhm_deg": 0.1465251571999866,
          "index": 112
         },
         {
          "bandcenter_ghz": 90.11823671098973,
          "bandwidth_ghz": 22.020095957641395,
          "fwhm_arcmin": 9.636609065922,
          "fwhm_deg": 0.1606101510987,
          "index": 113
         },
         {
          "bandcenter_ghz": 91.01640967707898,
          "bandwidth_ghz": 22.72709369437436,
          "fwhm_arcmin": 9.418526617396306,
          "fwhm_deg": 0.1569754436232718,
          "index": 114
         },
         {
          "bandcenter_ghz": 90.7181227054358,
          "bandwidth_ghz": 22.359563462481013,
          "fwhm_arcmin": 9.406810613785881,
          "fwhm_deg": 0.15678017689643134,
          "index": 115
         },
         {
          "bandcenter_ghz": 89.34933443447655,
          "bandwidth_ghz": 22.641361994075986,
          "fwhm_arcmin": 9.05504340615153,
          "fwhm_deg": 0.1509173901025255,
          "index": 116
         },
         {
          "bandcenter_ghz": 90.55211479556891,
          "bandwidth_ghz": 22.513426926808183,
          "fwhm_arcmin": 9.586725974132229,
          "fwhm_deg": 0.15977876623553713,
          "index": 117
         },
         {
          "bandcenter_ghz": 88.04132783261701,
          "bandwidth_ghz": 21.728177628640733,
          "fwhm_arcmin": 9.246976441113922,
          "fwhm_deg": 0.15411627401856537,
          "index": 118
         },
         {
          "bandcenter_ghz": 88.67246497776925,
          "bandwidth_ghz": 22.59635716933519,
          "fwhm_arcmin": 9.374729139092706,
          "fwhm_deg": 0.15624548565154509,
          "index": 119
         },
         {
          "bandcenter_ghz": 89.45388294605597,
          "bandwidth_ghz": 22.398286201044243,
          "fwhm_arcmin": 9.927841279005927,
          "fwhm_deg": 0.16546402131676544,
          "index": 120
         },
         {
          "bandcenter_ghz": 88.88951165954265,
          "bandwidth_ghz": 22.01493773413285,
          "fwhm_arcmin": 10.002470591668915,
          "fwhm_deg": 0.16670784319448193,
          "index": 121
         }
        ]
       },
       "layer": [
        {
         "data": {
          "name": "data-4fc8b6ad00ead143f7f729ffa85837da"
         },
         "encoding": {
          "x": {
           "axis": null,
           "bin": {
            "maxbins": 50
           },
           "field": "bandcenter_ghz",
           "type": "quantitative"
          },
          "y": {
           "aggregate": "count",
           "type": "quantitative"
          }
         },
         "mark": "bar"
        },
        {
         "data": {
          "name": "data-4fc8b6ad00ead143f7f729ffa85837da"
         },
         "encoding": {
          "size": {
           "value": 3
          },
          "x": {
           "aggregate": "mean",
           "field": "bandcenter_ghz",
           "type": "quantitative"
          }
         },
         "mark": {
          "color": "red",
          "type": "rule"
         }
        }
       ]
      },
      "image/png": "[encoded data removed]",
      "text/plain": [
       "<VegaLite 2 object>\n",
       "\n",
       "If you see this message, it means the renderer has not been properly enabled\n",
       "for the frontend that you are using. For more information, see\n",
       "https://altair-viz.github.io/user_guide/troubleshooting.html\n"
      ]
     },
     "execution_count": 29,
     "metadata": {},
     "output_type": "execute_result"
    }
   ],
   "source": [
    "bar = alt.Chart(a).mark_bar().encode(x=alt.X(\"bandcenter_ghz:Q\", bin=alt.Bin(maxbins=50), axis=None),\n",
    "    y='count()')\n",
    "\n",
    "rule = alt.Chart(a).mark_rule(color='red').encode(\n",
    "    x='mean(bandcenter_ghz):Q',\n",
    "    size=alt.value(3)\n",
    ")\n",
    "\n",
    "bar + rule"
   ]
  },
  {
   "cell_type": "code",
   "execution_count": 30,
   "metadata": {},
   "outputs": [
    {
     "data": {
      "application/vnd.vegalite.v2+json": {
       "$schema": "https://vega.github.io/schema/vega-lite/v2.6.0.json",
       "config": {
        "view": {
         "height": 300,
         "width": 400
        }
       },
       "datasets": {
        "data-4fc8b6ad00ead143f7f729ffa85837da": [
         {
          "bandcenter_ghz": 90.71265546906,
          "bandwidth_ghz": 21.63712115890996,
          "fwhm_arcmin": 9.477997810619138,
          "fwhm_deg": 0.15796663017698565,
          "index": 0
         },
         {
          "bandcenter_ghz": 89.16799522717268,
          "bandwidth_ghz": 21.828557599749395,
          "fwhm_arcmin": 9.490876966863858,
          "fwhm_deg": 0.1581812827810643,
          "index": 1
         },
         {
          "bandcenter_ghz": 88.53444689287453,
          "bandwidth_ghz": 22.968046879652974,
          "fwhm_arcmin": 9.879223139860203,
          "fwhm_deg": 0.16465371899767006,
          "index": 2
         },
         {
          "bandcenter_ghz": 90.57514846782985,
          "bandwidth_ghz": 22.402304846955488,
          "fwhm_arcmin": 9.35492728765808,
          "fwhm_deg": 0.15591545479430133,
          "index": 3
         },
         {
          "bandcenter_ghz": 89.26549564144638,
          "bandwidth_ghz": 22.97656426039775,
          "fwhm_arcmin": 9.667323289081594,
          "fwhm_deg": 0.16112205481802658,
          "index": 4
         },
         {
          "bandcenter_ghz": 87.84123055619483,
          "bandwidth_ghz": 22.175213454769214,
          "fwhm_arcmin": 9.615043012231544,
          "fwhm_deg": 0.16025071687052572,
          "index": 5
         },
         {
          "bandcenter_ghz": 92.06338354618808,
          "bandwidth_ghz": 21.893691103724194,
          "fwhm_arcmin": 9.229110345641514,
          "fwhm_deg": 0.1538185057606919,
          "index": 6
         },
         {
          "bandcenter_ghz": 88.73764286905859,
          "bandwidth_ghz": 22.165078566053474,
          "fwhm_arcmin": 9.607397990016972,
          "fwhm_deg": 0.1601232998336162,
          "index": 7
         },
         {
          "bandcenter_ghz": 90.23451324378051,
          "bandwidth_ghz": 22.630186814660348,
          "fwhm_arcmin": 9.993341583424291,
          "fwhm_deg": 0.16655569305707152,
          "index": 8
         },
         {
          "bandcenter_ghz": 88.92828491978065,
          "bandwidth_ghz": 21.455877009546153,
          "fwhm_arcmin": 9.924941539372853,
          "fwhm_deg": 0.16541569232288086,
          "index": 9
         },
         {
          "bandcenter_ghz": 89.2799282731399,
          "bandwidth_ghz": 22.695121720898683,
          "fwhm_arcmin": 9.733626939632718,
          "fwhm_deg": 0.1622271156605453,
          "index": 10
         },
         {
          "bandcenter_ghz": 88.55480889367674,
          "bandwidth_ghz": 22.686829328900163,
          "fwhm_arcmin": 9.842585904164018,
          "fwhm_deg": 0.16404309840273362,
          "index": 11
         },
         {
          "bandcenter_ghz": 89.4631030294094,
          "bandwidth_ghz": 23.030721707047885,
          "fwhm_arcmin": 9.858229811927245,
          "fwhm_deg": 0.16430383019878742,
          "index": 12
         },
         {
          "bandcenter_ghz": 90.16258108209293,
          "bandwidth_ghz": 23.124108807590595,
          "fwhm_arcmin": 9.306505958504653,
          "fwhm_deg": 0.1551084326417442,
          "index": 13
         },
         {
          "bandcenter_ghz": 90.24540970007276,
          "bandwidth_ghz": 22.123789485518397,
          "fwhm_arcmin": 9.761259043437116,
          "fwhm_deg": 0.16268765072395194,
          "index": 14
         },
         {
          "bandcenter_ghz": 88.84146475862475,
          "bandwidth_ghz": 21.701578496583483,
          "fwhm_arcmin": 9.266898634298464,
          "fwhm_deg": 0.15444831057164107,
          "index": 15
         },
         {
          "bandcenter_ghz": 88.88464911039364,
          "bandwidth_ghz": 22.389085982358896,
          "fwhm_arcmin": 9.407387764670766,
          "fwhm_deg": 0.1567897960778461,
          "index": 16
         },
         {
          "bandcenter_ghz": 89.78677104992158,
          "bandwidth_ghz": 22.664199315006616,
          "fwhm_arcmin": 9.381743348783976,
          "fwhm_deg": 0.1563623891463996,
          "index": 17
         },
         {
          "bandcenter_ghz": 91.1791264279274,
          "bandwidth_ghz": 22.172275123491247,
          "fwhm_arcmin": 9.097411357942745,
          "fwhm_deg": 0.15162352263237908,
          "index": 18
         },
         {
          "bandcenter_ghz": 90.13395122403718,
          "bandwidth_ghz": 23.20221473235367,
          "fwhm_arcmin": 9.81688997894032,
          "fwhm_deg": 0.16361483298233867,
          "index": 19
         },
         {
          "bandcenter_ghz": 89.04211570663045,
          "bandwidth_ghz": 22.252389939709953,
          "fwhm_arcmin": 9.367392753206056,
          "fwhm_deg": 0.15612321255343428,
          "index": 20
         },
         {
          "bandcenter_ghz": 89.3041135808461,
          "bandwidth_ghz": 22.448538693498737,
          "fwhm_arcmin": 9.873972973851297,
          "fwhm_deg": 0.16456621623085493,
          "index": 21
         },
         {
          "bandcenter_ghz": 90.04819062891413,
          "bandwidth_ghz": 22.244705828461218,
          "fwhm_arcmin": 9.210193192480261,
          "fwhm_deg": 0.15350321987467103,
          "index": 22
         },
         {
          "bandcenter_ghz": 90.32874173501968,
          "bandwidth_ghz": 22.391945887201626,
          "fwhm_arcmin": 9.294246842622323,
          "fwhm_deg": 0.15490411404370538,
          "index": 23
         },
         {
          "bandcenter_ghz": 90.65881504449608,
          "bandwidth_ghz": 22.34146235426067,
          "fwhm_arcmin": 9.447267547633068,
          "fwhm_deg": 0.1574544591272178,
          "index": 24
         },
         {
          "bandcenter_ghz": 89.9775946702926,
          "bandwidth_ghz": 21.704466948876377,
          "fwhm_arcmin": 8.593534614067313,
          "fwhm_deg": 0.14322557690112186,
          "index": 25
         },
         {
          "bandcenter_ghz": 91.36021727869114,
          "bandwidth_ghz": 22.159873885914635,
          "fwhm_arcmin": 9.698322965167472,
          "fwhm_deg": 0.16163871608612454,
          "index": 26
         },
         {
          "bandcenter_ghz": 87.8098466016035,
          "bandwidth_ghz": 22.594413170450505,
          "fwhm_arcmin": 9.304302820361546,
          "fwhm_deg": 0.15507171367269243,
          "index": 27
         },
         {
          "bandcenter_ghz": 89.10066193839452,
          "bandwidth_ghz": 23.109289591326323,
          "fwhm_arcmin": 9.634240723971779,
          "fwhm_deg": 0.160570678732863,
          "index": 28
         },
         {
          "bandcenter_ghz": 91.3859024395774,
          "bandwidth_ghz": 22.149520431076002,
          "fwhm_arcmin": 9.287468967737745,
          "fwhm_deg": 0.15479114946229575,
          "index": 29
         },
         {
          "bandcenter_ghz": 88.03677999820746,
          "bandwidth_ghz": 22.470691351248416,
          "fwhm_arcmin": 9.817278085025197,
          "fwhm_deg": 0.16362130141708664,
          "index": 30
         },
         {
          "bandcenter_ghz": 90.156782542871,
          "bandwidth_ghz": 22.519555510375977,
          "fwhm_arcmin": 9.60463022273763,
          "fwhm_deg": 0.1600771703789605,
          "index": 31
         },
         {
          "bandcenter_ghz": 89.44169821247381,
          "bandwidth_ghz": 22.152569952542606,
          "fwhm_arcmin": 10.01049874240258,
          "fwhm_deg": 0.16684164570670967,
          "index": 32
         },
         {
          "bandcenter_ghz": 87.6043686035357,
          "bandwidth_ghz": 22.711902702353434,
          "fwhm_arcmin": 9.498585855840165,
          "fwhm_deg": 0.15830976426400276,
          "index": 33
         },
         {
          "bandcenter_ghz": 89.19695866667156,
          "bandwidth_ghz": 22.813006721112053,
          "fwhm_arcmin": 9.263455866800392,
          "fwhm_deg": 0.15439093111333987,
          "index": 34
         },
         {
          "bandcenter_ghz": 89.96033415865439,
          "bandwidth_ghz": 22.64856082361576,
          "fwhm_arcmin": 9.396715174098937,
          "fwhm_deg": 0.1566119195683156,
          "index": 35
         },
         {
          "bandcenter_ghz": 88.26598978515665,
          "bandwidth_ghz": 22.106066366155396,
          "fwhm_arcmin": 9.749397788721707,
          "fwhm_deg": 0.16248996314536177,
          "index": 36
         },
         {
          "bandcenter_ghz": 88.30295988280523,
          "bandwidth_ghz": 22.43418140859185,
          "fwhm_arcmin": 9.387466797645667,
          "fwhm_deg": 0.1564577799607611,
          "index": 37
         },
         {
          "bandcenter_ghz": 88.69332302611475,
          "bandwidth_ghz": 22.48090403511241,
          "fwhm_arcmin": 9.970690963228295,
          "fwhm_deg": 0.16617818272047158,
          "index": 38
         },
         {
          "bandcenter_ghz": 89.49412299717793,
          "bandwidth_ghz": 22.617651003296444,
          "fwhm_arcmin": 9.584488979653328,
          "fwhm_deg": 0.15974148299422214,
          "index": 39
         },
         {
          "bandcenter_ghz": 88.23628231784666,
          "bandwidth_ghz": 22.825816654080114,
          "fwhm_arcmin": 9.293293028065161,
          "fwhm_deg": 0.15488821713441936,
          "index": 40
         },
         {
          "bandcenter_ghz": 89.83651640593256,
          "bandwidth_ghz": 22.65270633988077,
          "fwhm_arcmin": 9.55944938419674,
          "fwhm_deg": 0.159324156403279,
          "index": 41
         },
         {
          "bandcenter_ghz": 89.82593234107227,
          "bandwidth_ghz": 23.34225627843627,
          "fwhm_arcmin": 9.249875328354818,
          "fwhm_deg": 0.15416458880591363,
          "index": 42
         },
         {
          "bandcenter_ghz": 89.85162823358047,
          "bandwidth_ghz": 22.680811825144087,
          "fwhm_arcmin": 9.246935972183039,
          "fwhm_deg": 0.15411559953638398,
          "index": 43
         },
         {
          "bandcenter_ghz": 89.78097754363401,
          "bandwidth_ghz": 22.495706548340063,
          "fwhm_arcmin": 9.005955132630469,
          "fwhm_deg": 0.1500992522105078,
          "index": 44
         },
         {
          "bandcenter_ghz": 89.37882470037685,
          "bandwidth_ghz": 22.884702067159864,
          "fwhm_arcmin": 9.912128731799392,
          "fwhm_deg": 0.16520214552998985,
          "index": 45
         },
         {
          "bandcenter_ghz": 88.98354468688373,
          "bandwidth_ghz": 22.38377587028183,
          "fwhm_arcmin": 9.43318253593079,
          "fwhm_deg": 0.15721970893217985,
          "index": 46
         },
         {
          "bandcenter_ghz": 90.60049912558456,
          "bandwidth_ghz": 21.72263940237255,
          "fwhm_arcmin": 9.636499390003836,
          "fwhm_deg": 0.1606083231667306,
          "index": 47
         },
         {
          "bandcenter_ghz": 88.04003937736712,
          "bandwidth_ghz": 21.451507324141627,
          "fwhm_arcmin": 9.567592003599398,
          "fwhm_deg": 0.15945986672665663,
          "index": 48
         },
         {
          "bandcenter_ghz": 89.24138505872033,
          "bandwidth_ghz": 22.334596319774672,
          "fwhm_arcmin": 9.658567351856059,
          "fwhm_deg": 0.16097612253093432,
          "index": 49
         },
         {
          "bandcenter_ghz": 89.8023715395138,
          "bandwidth_ghz": 22.878833135329188,
          "fwhm_arcmin": 9.116455688622695,
          "fwhm_deg": 0.15194092814371157,
          "index": 50
         },
         {
          "bandcenter_ghz": 89.05319635216776,
          "bandwidth_ghz": 22.09807952435475,
          "fwhm_arcmin": 9.66431366835237,
          "fwhm_deg": 0.1610718944725395,
          "index": 51
         },
         {
          "bandcenter_ghz": 90.21837079599239,
          "bandwidth_ghz": 23.293996602136065,
          "fwhm_arcmin": 9.225527303971816,
          "fwhm_deg": 0.15375878839953028,
          "index": 52
         },
         {
          "bandcenter_ghz": 88.47169622331266,
          "bandwidth_ghz": 21.623541775795182,
          "fwhm_arcmin": 8.819500481382036,
          "fwhm_deg": 0.1469916746897006,
          "index": 53
         },
         {
          "bandcenter_ghz": 90.635430717655,
          "bandwidth_ghz": 23.078528988081402,
          "fwhm_arcmin": 9.665492453174544,
          "fwhm_deg": 0.1610915408862424,
          "index": 54
         },
         {
          "bandcenter_ghz": 90.06100617229262,
          "bandwidth_ghz": 22.476748671480514,
          "fwhm_arcmin": 9.920505402871337,
          "fwhm_deg": 0.16534175671452228,
          "index": 55
         },
         {
          "bandcenter_ghz": 89.04257701473968,
          "bandwidth_ghz": 22.712151049195146,
          "fwhm_arcmin": 9.420779357459825,
          "fwhm_deg": 0.15701298929099708,
          "index": 56
         },
         {
          "bandcenter_ghz": 89.33364813187906,
          "bandwidth_ghz": 22.866479270250313,
          "fwhm_arcmin": 9.650005480297036,
          "fwhm_deg": 0.16083342467161726,
          "index": 57
         },
         {
          "bandcenter_ghz": 88.91556061514062,
          "bandwidth_ghz": 22.416216447106073,
          "fwhm_arcmin": 9.273862446087717,
          "fwhm_deg": 0.15456437410146195,
          "index": 58
         },
         {
          "bandcenter_ghz": 88.86746430695925,
          "bandwidth_ghz": 21.476461740227972,
          "fwhm_arcmin": 9.19446453654334,
          "fwhm_deg": 0.15324107560905567,
          "index": 59
         },
         {
          "bandcenter_ghz": 90.22783357547493,
          "bandwidth_ghz": 21.248221909806283,
          "fwhm_arcmin": 9.476683993945379,
          "fwhm_deg": 0.15794473323242297,
          "index": 60
         },
         {
          "bandcenter_ghz": 86.89852076992003,
          "bandwidth_ghz": 22.391476579426755,
          "fwhm_arcmin": 9.045633114052974,
          "fwhm_deg": 0.1507605519008829,
          "index": 61
         },
         {
          "bandcenter_ghz": 88.42600544303565,
          "bandwidth_ghz": 22.26686479306175,
          "fwhm_arcmin": 8.967965410305354,
          "fwhm_deg": 0.14946609017175588,
          "index": 62
         },
         {
          "bandcenter_ghz": 89.60687152535436,
          "bandwidth_ghz": 21.81211553150533,
          "fwhm_arcmin": 9.786573162110534,
          "fwhm_deg": 0.16310955270184221,
          "index": 63
         },
         {
          "bandcenter_ghz": 89.23257244142944,
          "bandwidth_ghz": 22.6255311029723,
          "fwhm_arcmin": 9.553719906745947,
          "fwhm_deg": 0.15922866511243244,
          "index": 64
         },
         {
          "bandcenter_ghz": 89.18527039481089,
          "bandwidth_ghz": 22.057875012962764,
          "fwhm_arcmin": 9.51537755178019,
          "fwhm_deg": 0.15858962586300318,
          "index": 65
         },
         {
          "bandcenter_ghz": 88.99298911183374,
          "bandwidth_ghz": 22.70050120338989,
          "fwhm_arcmin": 9.551706194543613,
          "fwhm_deg": 0.15919510324239355,
          "index": 66
         },
         {
          "bandcenter_ghz": 89.5176607609678,
          "bandwidth_ghz": 22.222923645865997,
          "fwhm_arcmin": 9.579188479155887,
          "fwhm_deg": 0.15965314131926478,
          "index": 67
         },
         {
          "bandcenter_ghz": 89.92372037832588,
          "bandwidth_ghz": 22.530735211324885,
          "fwhm_arcmin": 9.584319430864193,
          "fwhm_deg": 0.1597386571810699,
          "index": 68
         },
         {
          "bandcenter_ghz": 88.79311482520278,
          "bandwidth_ghz": 22.403171481754548,
          "fwhm_arcmin": 9.414087266421456,
          "fwhm_deg": 0.1569014544403576,
          "index": 69
         },
         {
          "bandcenter_ghz": 88.90654829124776,
          "bandwidth_ghz": 22.08327969500864,
          "fwhm_arcmin": 9.620413439026915,
          "fwhm_deg": 0.16034022398378192,
          "index": 70
         },
         {
          "bandcenter_ghz": 89.2525428371464,
          "bandwidth_ghz": 22.407661045045778,
          "fwhm_arcmin": 8.892127454792188,
          "fwhm_deg": 0.14820212424653648,
          "index": 71
         },
         {
          "bandcenter_ghz": 88.0738889838548,
          "bandwidth_ghz": 22.298350748216215,
          "fwhm_arcmin": 9.275443816411174,
          "fwhm_deg": 0.15459073027351958,
          "index": 72
         },
         {
          "bandcenter_ghz": 88.83336811248233,
          "bandwidth_ghz": 22.714464407738934,
          "fwhm_arcmin": 9.733036678291061,
          "fwhm_deg": 0.1622172779715177,
          "index": 73
         },
         {
          "bandcenter_ghz": 89.75488793255992,
          "bandwidth_ghz": 23.32912015004215,
          "fwhm_arcmin": 9.531076467631099,
          "fwhm_deg": 0.1588512744605183,
          "index": 74
         },
         {
          "bandcenter_ghz": 89.89616294602884,
          "bandwidth_ghz": 22.77634773518361,
          "fwhm_arcmin": 9.607100606320012,
          "fwhm_deg": 0.16011834343866688,
          "index": 75
         },
         {
          "bandcenter_ghz": 89.64991729228993,
          "bandwidth_ghz": 21.47235719948196,
          "fwhm_arcmin": 9.368114992292432,
          "fwhm_deg": 0.15613524987154054,
          "index": 76
         },
         {
          "bandcenter_ghz": 90.00191754267397,
          "bandwidth_ghz": 22.29048171536252,
          "fwhm_arcmin": 9.673502072073326,
          "fwhm_deg": 0.16122503453455544,
          "index": 77
         },
         {
          "bandcenter_ghz": 88.51443454165292,
          "bandwidth_ghz": 23.150817009677514,
          "fwhm_arcmin": 9.613929176349398,
          "fwhm_deg": 0.16023215293915663,
          "index": 78
         },
         {
          "bandcenter_ghz": 89.11225253212594,
          "bandwidth_ghz": 22.332881783862003,
          "fwhm_arcmin": 9.207814298845243,
          "fwhm_deg": 0.15346357164742072,
          "index": 79
         },
         {
          "bandcenter_ghz": 90.19314462634617,
          "bandwidth_ghz": 22.498393231471873,
          "fwhm_arcmin": 8.944922322845045,
          "fwhm_deg": 0.14908203871408407,
          "index": 80
         },
         {
          "bandcenter_ghz": 88.63037812216002,
          "bandwidth_ghz": 22.608281867942534,
          "fwhm_arcmin": 9.674295772914057,
          "fwhm_deg": 0.16123826288190096,
          "index": 81
         },
         {
          "bandcenter_ghz": 88.6643405961196,
          "bandwidth_ghz": 22.552197607678472,
          "fwhm_arcmin": 9.458243247965408,
          "fwhm_deg": 0.15763738746609013,
          "index": 82
         },
         {
          "bandcenter_ghz": 89.2020304355366,
          "bandwidth_ghz": 22.806661332614766,
          "fwhm_arcmin": 9.80134611159097,
          "fwhm_deg": 0.16335576852651618,
          "index": 83
         },
         {
          "bandcenter_ghz": 90.81015248745315,
          "bandwidth_ghz": 21.737594549034693,
          "fwhm_arcmin": 9.628285722256365,
          "fwhm_deg": 0.16047142870427275,
          "index": 84
         },
         {
          "bandcenter_ghz": 91.06337927301733,
          "bandwidth_ghz": 21.850072866826743,
          "fwhm_arcmin": 9.545323769507867,
          "fwhm_deg": 0.15908872949179778,
          "index": 85
         },
         {
          "bandcenter_ghz": 88.50435477034837,
          "bandwidth_ghz": 22.27312706246446,
          "fwhm_arcmin": 9.24450299579426,
          "fwhm_deg": 0.15407504992990434,
          "index": 86
         },
         {
          "bandcenter_ghz": 89.4300603321695,
          "bandwidth_ghz": 22.55378942907313,
          "fwhm_arcmin": 9.581831600333087,
          "fwhm_deg": 0.1596971933388848,
          "index": 87
         },
         {
          "bandcenter_ghz": 88.6089880498783,
          "bandwidth_ghz": 21.88879754278556,
          "fwhm_arcmin": 9.925306579647476,
          "fwhm_deg": 0.16542177632745791,
          "index": 88
         },
         {
          "bandcenter_ghz": 91.68483456244572,
          "bandwidth_ghz": 22.408680607198587,
          "fwhm_arcmin": 9.385420963653731,
          "fwhm_deg": 0.15642368272756219,
          "index": 89
         },
         {
          "bandcenter_ghz": 87.97263630214083,
          "bandwidth_ghz": 23.08681492979988,
          "fwhm_arcmin": 9.469654207255019,
          "fwhm_deg": 0.15782757012091697,
          "index": 90
         },
         {
          "bandcenter_ghz": 89.45558277086595,
          "bandwidth_ghz": 22.432221655375056,
          "fwhm_arcmin": 9.348758810792514,
          "fwhm_deg": 0.1558126468465419,
          "index": 91
         },
         {
          "bandcenter_ghz": 90.80510954623176,
          "bandwidth_ghz": 22.45659557295196,
          "fwhm_arcmin": 9.51988119512903,
          "fwhm_deg": 0.15866468658548383,
          "index": 92
         },
         {
          "bandcenter_ghz": 89.50188907202008,
          "bandwidth_ghz": 22.273212016799125,
          "fwhm_arcmin": 9.219692097163067,
          "fwhm_deg": 0.15366153495271778,
          "index": 93
         },
         {
          "bandcenter_ghz": 89.65607113681412,
          "bandwidth_ghz": 22.522692046994052,
          "fwhm_arcmin": 9.455540307781215,
          "fwhm_deg": 0.15759233846302026,
          "index": 94
         },
         {
          "bandcenter_ghz": 91.36252159794493,
          "bandwidth_ghz": 22.76219407282407,
          "fwhm_arcmin": 9.148619753282764,
          "fwhm_deg": 0.15247699588804606,
          "index": 95
         },
         {
          "bandcenter_ghz": 89.3658375317145,
          "bandwidth_ghz": 23.106362345415288,
          "fwhm_arcmin": 9.48243371138322,
          "fwhm_deg": 0.15804056185638699,
          "index": 96
         },
         {
          "bandcenter_ghz": 88.03602900267153,
          "bandwidth_ghz": 22.540915876897422,
          "fwhm_arcmin": 10.039327371766094,
          "fwhm_deg": 0.16732212286276824,
          "index": 97
         },
         {
          "bandcenter_ghz": 89.97585051494998,
          "bandwidth_ghz": 22.377365126454727,
          "fwhm_arcmin": 9.287339785581668,
          "fwhm_deg": 0.15478899642636115,
          "index": 98
         },
         {
          "bandcenter_ghz": 90.30435336640161,
          "bandwidth_ghz": 22.490884790809222,
          "fwhm_arcmin": 8.959193255461845,
          "fwhm_deg": 0.14931988759103074,
          "index": 99
         },
         {
          "bandcenter_ghz": 88.4527923005089,
          "bandwidth_ghz": 22.79928865779956,
          "fwhm_arcmin": 9.367331160248732,
          "fwhm_deg": 0.1561221860041455,
          "index": 100
         },
         {
          "bandcenter_ghz": 90.47990872870304,
          "bandwidth_ghz": 21.540599244844966,
          "fwhm_arcmin": 9.541936355293219,
          "fwhm_deg": 0.1590322725882203,
          "index": 101
         },
         {
          "bandcenter_ghz": 90.23532879488765,
          "bandwidth_ghz": 22.632874785248006,
          "fwhm_arcmin": 9.739035445630698,
          "fwhm_deg": 0.1623172574271783,
          "index": 102
         },
         {
          "bandcenter_ghz": 89.15184760081459,
          "bandwidth_ghz": 21.782698937980662,
          "fwhm_arcmin": 9.087745802878532,
          "fwhm_deg": 0.15146243004797552,
          "index": 103
         },
         {
          "bandcenter_ghz": 89.86872608329182,
          "bandwidth_ghz": 21.526364158725052,
          "fwhm_arcmin": 9.104708308416729,
          "fwhm_deg": 0.15174513847361215,
          "index": 104
         },
         {
          "bandcenter_ghz": 89.77018215504744,
          "bandwidth_ghz": 21.82885622520978,
          "fwhm_arcmin": 10.025165766437247,
          "fwhm_deg": 0.16708609610728745,
          "index": 105
         },
         {
          "bandcenter_ghz": 88.000768843141,
          "bandwidth_ghz": 22.502916319561773,
          "fwhm_arcmin": 9.230836691982242,
          "fwhm_deg": 0.15384727819970404,
          "index": 106
         },
         {
          "bandcenter_ghz": 89.42710609059122,
          "bandwidth_ghz": 23.29737216644918,
          "fwhm_arcmin": 9.884302244233838,
          "fwhm_deg": 0.16473837073723063,
          "index": 107
         },
         {
          "bandcenter_ghz": 88.90539677144174,
          "bandwidth_ghz": 21.80999365646949,
          "fwhm_arcmin": 9.86335471443436,
          "fwhm_deg": 0.16438924524057266,
          "index": 108
         },
         {
          "bandcenter_ghz": 88.34023213634892,
          "bandwidth_ghz": 22.695962130015673,
          "fwhm_arcmin": 9.431805619314613,
          "fwhm_deg": 0.1571967603219102,
          "index": 109
         },
         {
          "bandcenter_ghz": 88.34571213459967,
          "bandwidth_ghz": 23.07743134026308,
          "fwhm_arcmin": 9.306701005081306,
          "fwhm_deg": 0.15511168341802178,
          "index": 110
         },
         {
          "bandcenter_ghz": 88.22056315796327,
          "bandwidth_ghz": 22.172417817093304,
          "fwhm_arcmin": 9.365863473767996,
          "fwhm_deg": 0.15609772456279994,
          "index": 111
         },
         {
          "bandcenter_ghz": 90.21353073743413,
          "bandwidth_ghz": 22.971677849694377,
          "fwhm_arcmin": 8.791509431999195,
          "fwhm_deg": 0.1465251571999866,
          "index": 112
         },
         {
          "bandcenter_ghz": 90.11823671098973,
          "bandwidth_ghz": 22.020095957641395,
          "fwhm_arcmin": 9.636609065922,
          "fwhm_deg": 0.1606101510987,
          "index": 113
         },
         {
          "bandcenter_ghz": 91.01640967707898,
          "bandwidth_ghz": 22.72709369437436,
          "fwhm_arcmin": 9.418526617396306,
          "fwhm_deg": 0.1569754436232718,
          "index": 114
         },
         {
          "bandcenter_ghz": 90.7181227054358,
          "bandwidth_ghz": 22.359563462481013,
          "fwhm_arcmin": 9.406810613785881,
          "fwhm_deg": 0.15678017689643134,
          "index": 115
         },
         {
          "bandcenter_ghz": 89.34933443447655,
          "bandwidth_ghz": 22.641361994075986,
          "fwhm_arcmin": 9.05504340615153,
          "fwhm_deg": 0.1509173901025255,
          "index": 116
         },
         {
          "bandcenter_ghz": 90.55211479556891,
          "bandwidth_ghz": 22.513426926808183,
          "fwhm_arcmin": 9.586725974132229,
          "fwhm_deg": 0.15977876623553713,
          "index": 117
         },
         {
          "bandcenter_ghz": 88.04132783261701,
          "bandwidth_ghz": 21.728177628640733,
          "fwhm_arcmin": 9.246976441113922,
          "fwhm_deg": 0.15411627401856537,
          "index": 118
         },
         {
          "bandcenter_ghz": 88.67246497776925,
          "bandwidth_ghz": 22.59635716933519,
          "fwhm_arcmin": 9.374729139092706,
          "fwhm_deg": 0.15624548565154509,
          "index": 119
         },
         {
          "bandcenter_ghz": 89.45388294605597,
          "bandwidth_ghz": 22.398286201044243,
          "fwhm_arcmin": 9.927841279005927,
          "fwhm_deg": 0.16546402131676544,
          "index": 120
         },
         {
          "bandcenter_ghz": 88.88951165954265,
          "bandwidth_ghz": 22.01493773413285,
          "fwhm_arcmin": 10.002470591668915,
          "fwhm_deg": 0.16670784319448193,
          "index": 121
         }
        ]
       },
       "layer": [
        {
         "data": {
          "name": "data-4fc8b6ad00ead143f7f729ffa85837da"
         },
         "encoding": {
          "x": {
           "axis": null,
           "bin": {
            "maxbins": 50
           },
           "field": "bandwidth_ghz",
           "type": "quantitative"
          },
          "y": {
           "aggregate": "count",
           "type": "quantitative"
          }
         },
         "mark": "bar"
        },
        {
         "data": {
          "name": "data-4fc8b6ad00ead143f7f729ffa85837da"
         },
         "encoding": {
          "size": {
           "value": 3
          },
          "x": {
           "aggregate": "mean",
           "field": "bandwidth_ghz",
           "type": "quantitative"
          }
         },
         "mark": {
          "color": "red",
          "type": "rule"
         }
        }
       ]
      },
      "image/png": "[encoded data removed]",
      "text/plain": [
       "<VegaLite 2 object>\n",
       "\n",
       "If you see this message, it means the renderer has not been properly enabled\n",
       "for the frontend that you are using. For more information, see\n",
       "https://altair-viz.github.io/user_guide/troubleshooting.html\n"
      ]
     },
     "execution_count": 30,
     "metadata": {},
     "output_type": "execute_result"
    }
   ],
   "source": [
    "bar = alt.Chart(a).mark_bar().encode(x=alt.X(\"bandwidth_ghz:Q\", bin=alt.Bin(maxbins=50), axis=None),\n",
    "    y='count()')\n",
    "\n",
    "rule = alt.Chart(a).mark_rule(color='red').encode(\n",
    "    x='mean(bandwidth_ghz):Q',\n",
    "    size=alt.value(3)\n",
    ")\n",
    "\n",
    "bar + rule"
   ]
  },
  {
   "cell_type": "code",
   "execution_count": 31,
   "metadata": {},
   "outputs": [
    {
     "data": {
      "text/plain": [
       "9.481434602489822"
      ]
     },
     "execution_count": 31,
     "metadata": {},
     "output_type": "execute_result"
    }
   ],
   "source": [
    "a[\"fwhm_arcmin\"].mean()"
   ]
  },
  {
   "cell_type": "code",
   "execution_count": 32,
   "metadata": {},
   "outputs": [
    {
     "data": {
      "text/plain": [
       "0.03078016508797121"
      ]
     },
     "execution_count": 32,
     "metadata": {},
     "output_type": "execute_result"
    }
   ],
   "source": [
    "a[\"fwhm_arcmin\"].std() / a[\"fwhm_arcmin\"].mean()"
   ]
  },
  {
   "cell_type": "code",
   "execution_count": null,
   "metadata": {},
   "outputs": [],
   "source": []
  }
 ],
 "metadata": {
  "kernelspec": {
   "display_name": "condajupynersc",
   "language": "python",
   "name": "condajupynersc"
  },
  "language_info": {
   "codemirror_mode": {
    "name": "ipython",
    "version": 3
   },
   "file_extension": ".py",
   "mimetype": "text/x-python",
   "name": "python",
   "nbconvert_exporter": "python",
   "pygments_lexer": "ipython3",
   "version": "3.6.3"
  }
 },
 "nbformat": 4,
 "nbformat_minor": 2
}
